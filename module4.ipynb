{
  "nbformat": 4,
  "nbformat_minor": 0,
  "metadata": {
    "colab": {
      "provenance": [],
      "include_colab_link": true
    },
    "kernelspec": {
      "name": "python3",
      "display_name": "Python 3"
    },
    "language_info": {
      "name": "python"
    }
  },
  "cells": [
    {
      "cell_type": "markdown",
      "metadata": {
        "id": "view-in-github",
        "colab_type": "text"
      },
      "source": [
        "<a href=\"https://colab.research.google.com/github/manuemmanuel/Python-class/blob/main/module4.ipynb\" target=\"_parent\"><img src=\"https://colab.research.google.com/assets/colab-badge.svg\" alt=\"Open In Colab\"/></a>"
      ]
    },
    {
      "cell_type": "markdown",
      "source": [
        "**Python Classes/Objects**\n",
        "\n",
        "\n",
        "    Python is an object oriented programming language.\n",
        "\n",
        "    Almost everything in Python is an object, with its properties and methods.\n",
        "\n",
        "    A Class is like an object constructor, or a \"blueprint\" for creating objects."
      ],
      "metadata": {
        "id": "tX4IorwEUQLQ"
      }
    },
    {
      "cell_type": "markdown",
      "source": [
        "**Python Classes**\n",
        "\n",
        "\n",
        "A class in Python is a user-defined template for creating objects.\n",
        "\n",
        "It bundles data and functions together, making it easier to manage and use them.\n",
        "\n",
        "When we create a new class, we define a new type of object."
      ],
      "metadata": {
        "id": "71zZijJ5Usvf"
      }
    },
    {
      "cell_type": "markdown",
      "source": [
        "**Create a Class**\n",
        "\n",
        "Classes are created using **class** keyword.\n",
        "\n",
        "Attributes are variables defined inside the class and represent the properties of the class.\n",
        "\n",
        "Attributes can be accessed using the dot . operator (e.g., MyClass.my_attribute)."
      ],
      "metadata": {
        "id": "CksP97tMVFhW"
      }
    },
    {
      "cell_type": "code",
      "source": [
        "# define a class\n",
        "class Dognew:\n",
        "    sound = \"bark\"  # class attribute"
      ],
      "metadata": {
        "id": "A-tIvF4TVVsm"
      },
      "execution_count": null,
      "outputs": []
    },
    {
      "cell_type": "markdown",
      "source": [
        "**Create Object**\n",
        "\n",
        "An Object is an instance(meaning it's a single, unique object created from  class blueprint) of a Class.\n",
        "\n",
        "It represents a specific implementation of the class and holds its own data.\n",
        "\n",
        "Now, let’s create an object from Dog class."
      ],
      "metadata": {
        "id": "L63uDbJNV5b-"
      }
    },
    {
      "cell_type": "code",
      "source": [
        "# Create an object from the class\n",
        "toby = Dognew()\n",
        "\n",
        "# Access the class attribute\n",
        "print(toby.sound)\n"
      ],
      "metadata": {
        "colab": {
          "base_uri": "https://localhost:8080/"
        },
        "id": "-WqjerH7V9P7",
        "outputId": "2987d6c8-a30c-41e0-a7d8-736b6086f56a"
      },
      "execution_count": null,
      "outputs": [
        {
          "output_type": "stream",
          "name": "stdout",
          "text": [
            "bark\n"
          ]
        }
      ]
    },
    {
      "cell_type": "code",
      "source": [
        "# Create an object from the class\n",
        "sunny = Dognew()\n",
        "\n",
        "# Access the class attribute\n",
        "print(sunny.sound)"
      ],
      "metadata": {
        "colab": {
          "base_uri": "https://localhost:8080/"
        },
        "id": "xsou4EVNYF1_",
        "outputId": "2ee970fe-fc4c-45b8-efb6-e8e46d476eef"
      },
      "execution_count": null,
      "outputs": [
        {
          "output_type": "stream",
          "name": "stdout",
          "text": [
            "bark\n"
          ]
        }
      ]
    },
    {
      "cell_type": "markdown",
      "source": [
        "> Sound attribute is a class attribute.\n",
        "\n",
        "> It is shared across all instances of Dognew class,\n",
        "\n",
        "> so can be directly accessed through instance toby,sunny,etc\n",
        "\n",
        "> we can have any number instance from a class\n"
      ],
      "metadata": {
        "id": "BMm8k0ILWyXz"
      }
    },
    {
      "cell_type": "markdown",
      "source": [],
      "metadata": {
        "id": "Vmp2jXXzYDE5"
      }
    },
    {
      "cell_type": "markdown",
      "source": [
        "    In object-oriented programming, an instance is a concrete realization of a class.\n",
        "    \n",
        "    When you define a class, you're essentially creating a blueprint.\n",
        "    \n",
        "    An instance, then, is an object built from that blueprint."
      ],
      "metadata": {
        "id": "IiPEDCUAXHlS"
      }
    },
    {
      "cell_type": "markdown",
      "source": [
        "**The __init__() Function**\n",
        "\n",
        "\n",
        "The examples above are classes and objects in their simplest form, and are not really useful in real life applications.\n",
        "\n",
        "To understand the meaning of classes we have to understand the built-in **__init__()** function.\n",
        "\n",
        "The __init__() function is a special method in Python classes. It is called automatically when you create an object.\n",
        "\n",
        "    Its main purpose is to initialize (set up) the object's attributes.\n",
        "\n",
        "\n",
        "**Syntax of __init__()**\n",
        "\n",
        "    class ClassName:\n",
        "\n",
        "        def __init__(self, parameter1, parameter2):   \n",
        "\n",
        "            self.attribute1 = parameter1\n",
        "\n",
        "            self.attribute2 = parameter2\n",
        "\n",
        "> self refers to the object being created.\n",
        "\n",
        "> parameter1, parameter2 are values passed when creating an object.\n",
        "\n",
        "> self.attribute1, self.attribute2 store these values inside the object."
      ],
      "metadata": {
        "id": "OgwsGTL5aSVb"
      }
    },
    {
      "cell_type": "code",
      "source": [
        "class Person:\n",
        "  def __init__(self, name, age):\n",
        "    self.name = name\n",
        "    self.age = age\n",
        "\n",
        "\n",
        "p1 = Person(\"John\", 36)\n",
        "p2 = Person(\"Jane\", 30)\n",
        "\n",
        "print(p1.name,p1.age)\n",
        "print(p2.name)\n"
      ],
      "metadata": {
        "colab": {
          "base_uri": "https://localhost:8080/"
        },
        "id": "k8dkN-g1ZTKP",
        "outputId": "a32d3ccb-572a-456f-9a1d-2523b6691542"
      },
      "execution_count": null,
      "outputs": [
        {
          "output_type": "stream",
          "name": "stdout",
          "text": [
            "John 36\n",
            "Jane\n"
          ]
        }
      ]
    },
    {
      "cell_type": "markdown",
      "source": [
        "**The __str__() Function**\n",
        "\n",
        "The __str__() function controls what should be returned when the class object is represented as a string.\n",
        "\n",
        "    If the __str__() function is not set, the string representation of the object is returned:"
      ],
      "metadata": {
        "id": "z0nD3mRobJzk"
      }
    },
    {
      "cell_type": "markdown",
      "source": [],
      "metadata": {
        "id": "RhZA2W_DncPh"
      }
    },
    {
      "cell_type": "code",
      "source": [
        "class Person:\n",
        "  def __init__(self, name, age):\n",
        "    self.name = name\n",
        "    self.age = age\n",
        "\n",
        "\n",
        "p1 = Person(\"John\", 36)\n",
        "p2 = Person(\"Jane\", 30)\n",
        "\n",
        "#By default, Python prints the memory address of the object because the Person class does not have a __str__ method.\n",
        "print(p1)\n",
        "print(p2)"
      ],
      "metadata": {
        "colab": {
          "base_uri": "https://localhost:8080/"
        },
        "id": "CAd9nJgObTgJ",
        "outputId": "dadfa9b5-0537-427d-b9af-b6e4a093303c"
      },
      "execution_count": null,
      "outputs": [
        {
          "output_type": "stream",
          "name": "stdout",
          "text": [
            "<__main__.Person object at 0x788e4fe8db50>\n",
            "<__main__.Person object at 0x788e4fe33ed0>\n"
          ]
        }
      ]
    },
    {
      "cell_type": "markdown",
      "source": [
        "**The string representation of an object WITH the __str__() function**\n",
        "\n",
        "\n",
        "**__str__ method**in Python allows us to define a custom string representation of an object.\n",
        "\n",
        "By default, when we print an object or convert it to a string using str(), Python uses the default implementation, which returns a string like\n",
        "\n",
        "<__main__.ClassName object at 0x00000123>."
      ],
      "metadata": {
        "id": "p7osO4eensVv"
      }
    },
    {
      "cell_type": "code",
      "source": [
        "class Dog:\n",
        "    def __init__(self, name, age):\n",
        "        self.name = name\n",
        "        self.age = age\n",
        "\n",
        "    #__str__ Method\n",
        "    def __str__(self):\n",
        "        return f\"{self.name} is {self.age} years old.\"  # Correct: Returning a string\n",
        "\n",
        "dog1 = Dog(\"Buddy\", 3)\n",
        "dog2 = Dog(\"Charlie\", 5)\n",
        "\n",
        "\n",
        "print(dog1)\n",
        "print(dog2)\n"
      ],
      "metadata": {
        "colab": {
          "base_uri": "https://localhost:8080/"
        },
        "id": "hQbjlrvKncaq",
        "outputId": "ba61daa1-8167-4672-acdd-40c3ad1bf969"
      },
      "execution_count": null,
      "outputs": [
        {
          "output_type": "stream",
          "name": "stdout",
          "text": [
            "Buddy is 10 years old.\n",
            "Charlie is 5 years old.\n"
          ]
        }
      ]
    },
    {
      "cell_type": "markdown",
      "source": [
        "**Modify Object Properties**\n",
        "\n",
        "\n",
        "You can modify properties on objects like this:"
      ],
      "metadata": {
        "id": "02F97BuXsSD1"
      }
    },
    {
      "cell_type": "code",
      "source": [
        "class Dog:\n",
        "    def __init__(self, name, age):\n",
        "        self.name = name\n",
        "        self.age = age\n",
        "\n",
        "    #__str__ Method\n",
        "    def __str__(self):\n",
        "        return f\"{self.name} is {self.age} years old.\"  # Correct: Returning a string\n",
        "\n",
        "dog1 = Dog(\"Buddy\", 3)\n",
        "dog2 = Dog(\"Charlie\", 5)\n",
        "\n",
        "# Modify Object Properties\n",
        "dog1.age = 10\n",
        "\n",
        "print(dog1)\n",
        "print(dog2)\n"
      ],
      "metadata": {
        "colab": {
          "base_uri": "https://localhost:8080/"
        },
        "id": "LlrFwlcZrq0o",
        "outputId": "ae612ed9-c5ba-464f-a2b8-8e7104830ff2"
      },
      "execution_count": null,
      "outputs": [
        {
          "output_type": "stream",
          "name": "stdout",
          "text": [
            "Buddy is 10 years old.\n",
            "Charlie is 5 years old.\n"
          ]
        }
      ]
    },
    {
      "cell_type": "markdown",
      "source": [
        "**Delete Object Properties**\n",
        "\n",
        "You can delete properties on objects by using the del keyword:"
      ],
      "metadata": {
        "id": "gfWm8L_7sv6n"
      }
    },
    {
      "cell_type": "code",
      "source": [
        "class Dog:\n",
        "    def __init__(self, name, age):\n",
        "        self.name = name\n",
        "        self.age = age\n",
        "\n",
        "    #__str__ Method\n",
        "    def __str__(self):\n",
        "        return f\"{self.name} is {self.age} years old.\"  # Correct: Returning a string\n",
        "\n",
        "dog1 = Dog(\"Buddy\", 3)\n",
        "dog2 = Dog(\"Charlie\", 5)\n",
        "\n",
        "# Delete Object Properties\n",
        "del dog1.age\n",
        "\n",
        "print(dog1)\n",
        "print(dog2)\n"
      ],
      "metadata": {
        "colab": {
          "base_uri": "https://localhost:8080/",
          "height": 315
        },
        "id": "Xj07MqLMs2xm",
        "outputId": "2fe19c66-7c5a-4ece-9686-8758ea8c03ef"
      },
      "execution_count": null,
      "outputs": [
        {
          "output_type": "error",
          "ename": "AttributeError",
          "evalue": "'Dog' object has no attribute 'age'",
          "traceback": [
            "\u001b[0;31m---------------------------------------------------------------------------\u001b[0m",
            "\u001b[0;31mAttributeError\u001b[0m                            Traceback (most recent call last)",
            "\u001b[0;32m<ipython-input-36-9dbb9b61b5bb>\u001b[0m in \u001b[0;36m<cell line: 0>\u001b[0;34m()\u001b[0m\n\u001b[1;32m     14\u001b[0m \u001b[0;32mdel\u001b[0m \u001b[0mdog1\u001b[0m\u001b[0;34m.\u001b[0m\u001b[0mage\u001b[0m\u001b[0;34m\u001b[0m\u001b[0;34m\u001b[0m\u001b[0m\n\u001b[1;32m     15\u001b[0m \u001b[0;34m\u001b[0m\u001b[0m\n\u001b[0;32m---> 16\u001b[0;31m \u001b[0mprint\u001b[0m\u001b[0;34m(\u001b[0m\u001b[0mdog1\u001b[0m\u001b[0;34m)\u001b[0m\u001b[0;34m\u001b[0m\u001b[0;34m\u001b[0m\u001b[0m\n\u001b[0m\u001b[1;32m     17\u001b[0m \u001b[0mprint\u001b[0m\u001b[0;34m(\u001b[0m\u001b[0mdog2\u001b[0m\u001b[0;34m)\u001b[0m\u001b[0;34m\u001b[0m\u001b[0;34m\u001b[0m\u001b[0m\n",
            "\u001b[0;32m<ipython-input-36-9dbb9b61b5bb>\u001b[0m in \u001b[0;36m__str__\u001b[0;34m(self)\u001b[0m\n\u001b[1;32m      6\u001b[0m     \u001b[0;31m#__str__ Method\u001b[0m\u001b[0;34m\u001b[0m\u001b[0;34m\u001b[0m\u001b[0m\n\u001b[1;32m      7\u001b[0m     \u001b[0;32mdef\u001b[0m \u001b[0m__str__\u001b[0m\u001b[0;34m(\u001b[0m\u001b[0mself\u001b[0m\u001b[0;34m)\u001b[0m\u001b[0;34m:\u001b[0m\u001b[0;34m\u001b[0m\u001b[0;34m\u001b[0m\u001b[0m\n\u001b[0;32m----> 8\u001b[0;31m         \u001b[0;32mreturn\u001b[0m \u001b[0;34mf\"{self.name} is {self.age} years old.\"\u001b[0m  \u001b[0;31m# Correct: Returning a string\u001b[0m\u001b[0;34m\u001b[0m\u001b[0;34m\u001b[0m\u001b[0m\n\u001b[0m\u001b[1;32m      9\u001b[0m \u001b[0;34m\u001b[0m\u001b[0m\n\u001b[1;32m     10\u001b[0m \u001b[0mdog1\u001b[0m \u001b[0;34m=\u001b[0m \u001b[0mDog\u001b[0m\u001b[0;34m(\u001b[0m\u001b[0;34m\"Buddy\"\u001b[0m\u001b[0;34m,\u001b[0m \u001b[0;36m3\u001b[0m\u001b[0;34m)\u001b[0m\u001b[0;34m\u001b[0m\u001b[0;34m\u001b[0m\u001b[0m\n",
            "\u001b[0;31mAttributeError\u001b[0m: 'Dog' object has no attribute 'age'"
          ]
        }
      ]
    },
    {
      "cell_type": "code",
      "source": [
        "class Dog:\n",
        "    def __init__(self, name, age):\n",
        "        self.name = name\n",
        "        self.age = age\n",
        "\n",
        "    #__str__ Method\n",
        "    def __str__(self):\n",
        "        # Check if 'age' attribute exists before accessing it\n",
        "        if hasattr(self, 'age'):\n",
        "            return f\"{self.name} is {self.age} years old.\"\n",
        "        else:\n",
        "            return f\"{self.name} - Age information not available.\" # Return a message if 'age' is not found\n",
        "\n",
        "dog1 = Dog(\"Buddy\", 3)\n",
        "dog2 = Dog(\"Charlie\", 5)\n",
        "\n",
        "# Delete Object Properties\n",
        "del dog1.age\n",
        "\n",
        "print(dog1)\n",
        "print(dog2)"
      ],
      "metadata": {
        "colab": {
          "base_uri": "https://localhost:8080/"
        },
        "id": "HjJWZa5nuyqT",
        "outputId": "61b7eab7-9d5c-4d90-d68b-e524a63f6f5d"
      },
      "execution_count": null,
      "outputs": [
        {
          "output_type": "stream",
          "name": "stdout",
          "text": [
            "Buddy - Age information not available.\n",
            "Charlie is 5 years old.\n"
          ]
        }
      ]
    },
    {
      "cell_type": "markdown",
      "source": [
        "**Delete Objects**\n",
        "\n",
        "You can delete objects by using the del keyword:"
      ],
      "metadata": {
        "id": "oPK4_UvIu5ep"
      }
    },
    {
      "cell_type": "code",
      "source": [
        "class Dog:\n",
        "    def __init__(self, name, age):\n",
        "        self.name = name\n",
        "        self.age = age\n",
        "\n",
        "    #__str__ Method\n",
        "    def __str__(self):\n",
        "        return f\"{self.name} is {self.age} years old.\"  # Correct: Returning a string\n",
        "\n",
        "dog1 = Dog(\"Buddy\", 3)\n",
        "dog2 = Dog(\"Charlie\", 5)\n",
        "\n",
        "#Delete the p1 object:\n",
        "del dog1\n",
        "\n",
        "print(dog1)\n",
        "print(dog2)\n"
      ],
      "metadata": {
        "colab": {
          "base_uri": "https://localhost:8080/",
          "height": 193
        },
        "id": "O7bnM5SwvKk7",
        "outputId": "451e61ea-c762-4c0c-dbb2-e9a7ab93240d"
      },
      "execution_count": null,
      "outputs": [
        {
          "output_type": "error",
          "ename": "NameError",
          "evalue": "name 'dog1' is not defined",
          "traceback": [
            "\u001b[0;31m---------------------------------------------------------------------------\u001b[0m",
            "\u001b[0;31mNameError\u001b[0m                                 Traceback (most recent call last)",
            "\u001b[0;32m<ipython-input-40-9a3f56ab4ef1>\u001b[0m in \u001b[0;36m<cell line: 0>\u001b[0;34m()\u001b[0m\n\u001b[1;32m     14\u001b[0m \u001b[0;32mdel\u001b[0m \u001b[0mdog1\u001b[0m\u001b[0;34m\u001b[0m\u001b[0;34m\u001b[0m\u001b[0m\n\u001b[1;32m     15\u001b[0m \u001b[0;34m\u001b[0m\u001b[0m\n\u001b[0;32m---> 16\u001b[0;31m \u001b[0mprint\u001b[0m\u001b[0;34m(\u001b[0m\u001b[0mdog1\u001b[0m\u001b[0;34m)\u001b[0m\u001b[0;34m\u001b[0m\u001b[0;34m\u001b[0m\u001b[0m\n\u001b[0m\u001b[1;32m     17\u001b[0m \u001b[0mprint\u001b[0m\u001b[0;34m(\u001b[0m\u001b[0mdog2\u001b[0m\u001b[0;34m)\u001b[0m\u001b[0;34m\u001b[0m\u001b[0;34m\u001b[0m\u001b[0m\n",
            "\u001b[0;31mNameError\u001b[0m: name 'dog1' is not defined"
          ]
        }
      ]
    },
    {
      "cell_type": "markdown",
      "source": [
        "Exercise: Python Classes\n",
        "\n",
        "https://www.w3schools.com/python/exercise.asp?x=xrcise_classes1"
      ],
      "metadata": {
        "id": "aAaFqkbvw8If"
      }
    },
    {
      "cell_type": "markdown",
      "source": [],
      "metadata": {
        "id": "A87LmxHqyKgT"
      }
    },
    {
      "cell_type": "markdown",
      "source": [
        "**Python Assignment: Class and Objects**\n",
        "\n",
        "**Question:**\n",
        "\n",
        "Create a class called Car with the following properties and methods:\n",
        "\n",
        "**Requirements:**\n",
        "\n",
        "The class should have an __init__() method to initialize the following attributes:\n",
        "\n",
        "    brand (Car brand, e.g., \"Toyota\")\n",
        "\n",
        "    model (Car model, e.g., \"Corolla\")\n",
        "    \n",
        "    year (Manufacturing year, e.g., 2020)\n",
        "    \n",
        "    mileage (Car mileage in kilometers, default should be 0)\n",
        "\n",
        "Create a method called display_info() that prints all the details of the car.\n",
        "\n",
        "Create a method called drive(km) that increases the mileage of the car by the given kilometers.\n",
        "\n",
        "**Task to Perform:**\n",
        "\n",
        "1. Create two objects of the Car class with different values.\n",
        "\n",
        "2. Call the display_info() method to print the car details.\n",
        "\n",
        "3. Use the drive(km) method to increase the mileage of one of the cars and display the updated details"
      ],
      "metadata": {
        "id": "R5jM7iZNyNqj"
      }
    }
  ]
}