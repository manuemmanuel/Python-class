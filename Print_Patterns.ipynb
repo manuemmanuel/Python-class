{
  "cells": [
    {
      "cell_type": "markdown",
      "metadata": {
        "id": "view-in-github",
        "colab_type": "text"
      },
      "source": [
        "<a href=\"https://colab.research.google.com/github/manuemmanuel/Python-class/blob/main/Print_Patterns.ipynb\" target=\"_parent\"><img src=\"https://colab.research.google.com/assets/colab-badge.svg\" alt=\"Open In Colab\"/></a>"
      ]
    },
    {
      "cell_type": "markdown",
      "metadata": {
        "id": "NEB8CLLuNl1N"
      },
      "source": [
        "# **Print Patterns**"
      ]
    },
    {
      "cell_type": "markdown",
      "metadata": {
        "id": "iGjDD7IRSufE"
      },
      "source": []
    },
    {
      "cell_type": "code",
      "execution_count": null,
      "metadata": {
        "colab": {
          "base_uri": "https://localhost:8080/"
        },
        "id": "JwJkdvX6SvgT",
        "outputId": "657d44c8-837a-4e43-a8a4-3d221f7f38e1"
      },
      "outputs": [
        {
          "name": "stdout",
          "output_type": "stream",
          "text": [
            "# #\n"
          ]
        }
      ],
      "source": [
        "print(\"#\" ,end=\" \")\n",
        "print(\"#\")"
      ]
    },
    {
      "cell_type": "code",
      "execution_count": null,
      "metadata": {
        "colab": {
          "base_uri": "https://localhost:8080/"
        },
        "id": "IdoP8i4vEO3J",
        "outputId": "7f09a58c-aa5d-4b22-9b94-f770ddf3137c"
      },
      "outputs": [
        {
          "name": "stdout",
          "output_type": "stream",
          "text": [
            "# # # # #\n"
          ]
        }
      ],
      "source": [
        "print(\"#\" ,end=\" \")\n",
        "print(\"#\" ,end=\" \")\n",
        "print(\"#\" ,end=\" \")\n",
        "print(\"#\" ,end=\" \")\n",
        "print(\"#\")"
      ]
    },
    {
      "cell_type": "markdown",
      "metadata": {
        "id": "zMUGr7akOJUb"
      },
      "source": [
        "**using loop**"
      ]
    },
    {
      "cell_type": "code",
      "execution_count": null,
      "metadata": {
        "colab": {
          "base_uri": "https://localhost:8080/"
        },
        "id": "B9aLeLFKFGtc",
        "outputId": "93a5c373-edc1-43fe-8eea-1a52f21eb6f1"
      },
      "outputs": [
        {
          "name": "stdout",
          "output_type": "stream",
          "text": [
            "# # # # # "
          ]
        }
      ],
      "source": [
        "for j in range(5):\n",
        "    print(\"#\",end=\" \")"
      ]
    },
    {
      "cell_type": "code",
      "execution_count": null,
      "metadata": {
        "colab": {
          "base_uri": "https://localhost:8080/"
        },
        "id": "UOXV4M6ZI-FR",
        "outputId": "37eb5b7a-f94c-4149-b69f-6943451d9798"
      },
      "outputs": [
        {
          "name": "stdout",
          "output_type": "stream",
          "text": [
            "# # # # # \n",
            "# # # # # \n",
            "# # # # # \n",
            "# # # # # \n",
            "# # # # # \n",
            "# # # # # \n",
            "# # # # # \n"
          ]
        }
      ],
      "source": [
        "for i in range(7): # row\n",
        "\n",
        "  for j in range(5):  #coloum\n",
        "    print(\"#\",end=\" \")\n",
        "  print(\"\")\n",
        "\n"
      ]
    },
    {
      "cell_type": "code",
      "execution_count": null,
      "metadata": {
        "colab": {
          "base_uri": "https://localhost:8080/"
        },
        "id": "lF9XA0ilIHa7",
        "outputId": "b0910213-5467-4290-8f48-db64dda8a1ec"
      },
      "outputs": [
        {
          "output_type": "stream",
          "name": "stdout",
          "text": [
            "Enter a number:9\n",
            "*\n",
            "**\n",
            "***\n",
            "****\n",
            "*****\n",
            "******\n",
            "*******\n",
            "********\n",
            "*********\n"
          ]
        }
      ],
      "source": [
        "n=int(input(\"Enter a number:\"))\n",
        "a='*'\n",
        "for i in range(1,n+1):\n",
        "   print(a*i) # row\n"
      ]
    },
    {
      "cell_type": "code",
      "execution_count": null,
      "metadata": {
        "colab": {
          "base_uri": "https://localhost:8080/"
        },
        "id": "zmVceCi8R3jG",
        "outputId": "d85b321d-57a6-4fdb-a61f-0252ea983b11"
      },
      "outputs": [
        {
          "name": "stdout",
          "output_type": "stream",
          "text": [
            "# \n",
            "# # \n",
            "# # # \n",
            "# # # # \n",
            "# # # # # \n",
            "# # # # # # \n",
            "# # # # # # # \n"
          ]
        }
      ],
      "source": [
        "for i in range(7): # row\n",
        "\n",
        "  for j in range(i+1): #coloum (start with i = zero in first iteration )\n",
        "    print(\"#\",end=\" \")\n",
        "  print()"
      ]
    },
    {
      "cell_type": "markdown",
      "metadata": {
        "id": "K-E8WTKkNkAX"
      },
      "source": []
    },
    {
      "cell_type": "code",
      "execution_count": null,
      "metadata": {
        "colab": {
          "base_uri": "https://localhost:8080/"
        },
        "id": "3I8rNIbxIWjp",
        "outputId": "60050426-99cc-4cb2-bc29-da8e9e9538cb"
      },
      "outputs": [
        {
          "name": "stdout",
          "output_type": "stream",
          "text": [
            "# # # # # \n",
            "# # # # \n",
            "# # # \n",
            "# # \n",
            "# \n"
          ]
        }
      ],
      "source": [
        "for i in range(5):\n",
        "\n",
        "  for j in range(5-i): # 5-0 , 5-1, 5-2,.....\n",
        "    print(\"#\",end=\" \")\n",
        "  print()"
      ]
    },
    {
      "cell_type": "markdown",
      "metadata": {
        "id": "cmZ6RHzYSsu9"
      },
      "source": []
    },
    {
      "cell_type": "markdown",
      "metadata": {
        "id": "7dBRaJ1WG0X1"
      },
      "source": []
    }
  ],
  "metadata": {
    "colab": {
      "provenance": [],
      "include_colab_link": true
    },
    "kernelspec": {
      "display_name": "Python 3",
      "name": "python3"
    },
    "language_info": {
      "name": "python"
    }
  },
  "nbformat": 4,
  "nbformat_minor": 0
}