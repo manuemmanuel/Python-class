{
  "nbformat": 4,
  "nbformat_minor": 0,
  "metadata": {
    "colab": {
      "provenance": [],
      "include_colab_link": true
    },
    "kernelspec": {
      "name": "python3",
      "display_name": "Python 3"
    },
    "language_info": {
      "name": "python"
    }
  },
  "cells": [
    {
      "cell_type": "markdown",
      "metadata": {
        "id": "view-in-github",
        "colab_type": "text"
      },
      "source": [
        "<a href=\"https://colab.research.google.com/github/manuemmanuel/Python-class/blob/main/Module_2.ipynb\" target=\"_parent\"><img src=\"https://colab.research.google.com/assets/colab-badge.svg\" alt=\"Open In Colab\"/></a>"
      ]
    },
    {
      "cell_type": "markdown",
      "source": [],
      "metadata": {
        "id": "vus-hbAVQ3hA"
      }
    },
    {
      "cell_type": "markdown",
      "source": [
        "**Module -2 (Building Python Programs) (8 hours)**\n",
        "\n",
        "\n",
        "Strings and text files – Accessing characters, substrings, Data encryption, Strings and number system, String methods, Text files,\n",
        "\n",
        "A case study on text analysis.\n",
        "\n",
        "\n",
        "Design with Functions – Functions as Abstraction Mechanisms, Problem solving with top-down design, Design with recursive functions, Managing a program’s namespace, Higher-Order Functions.\n",
        "\n",
        "\n",
        "Lists - Basic list Operations and functions, List of lists, Slicing, Searching and sorting list, List comprehension.\n",
        "\n",
        "\n",
        "Work with tuples. Sets. Work with dates and times, A case study with lists.\n",
        "\n",
        "\n",
        "Dictionaries -Dictionary functions, dictionary literals, adding and removing keys, accessing and replacing values, traversing dictionaries, reverse lookup.\n",
        "\n",
        "\n",
        "Case Study – Data Structure Selection."
      ],
      "metadata": {
        "id": "3c9v4oK9YFvc"
      }
    },
    {
      "cell_type": "markdown",
      "source": [
        "# Strings\n",
        "\n",
        "#1. Accessing Characters and Substrings\n",
        "You can access specific characters or portions of a string using indexing and slicing.\n",
        "\n",
        "\n",
        "**Accessing Characters**"
      ],
      "metadata": {
        "id": "Juoutg0tfhJo"
      }
    },
    {
      "cell_type": "code",
      "source": [
        "text = \"Hello, World!\"\n",
        "print(text[0])   # Output: H (1st character)\n",
        "print(text[-1])  # Output: ! (last character)\n",
        "print(text[7])   # Output: W (8th character)\n"
      ],
      "metadata": {
        "colab": {
          "base_uri": "https://localhost:8080/"
        },
        "id": "Q79C72KXfiT8",
        "outputId": "c7fffb40-6141-471f-be75-4162dac67566"
      },
      "execution_count": null,
      "outputs": [
        {
          "output_type": "stream",
          "name": "stdout",
          "text": [
            "H\n",
            "!\n",
            "W\n"
          ]
        }
      ]
    },
    {
      "cell_type": "markdown",
      "source": [
        "**Accessing Substrings**"
      ],
      "metadata": {
        "id": "npfkxkHMg1sI"
      }
    },
    {
      "cell_type": "code",
      "source": [
        "text = \"Hello, World!\"\n",
        "print(text[0:5])  # Output: Hello (characters from index 0 to 4)\n",
        "print(text[7:])   # Output: World! (from index 7 to the end)\n",
        "print(text[:5])   # Output: Hello (first 5 characters)\n"
      ],
      "metadata": {
        "colab": {
          "base_uri": "https://localhost:8080/"
        },
        "id": "5Gi1O7o3g7J4",
        "outputId": "a01034be-aa07-4979-9725-3e5e09aa94eb"
      },
      "execution_count": null,
      "outputs": [
        {
          "output_type": "stream",
          "name": "stdout",
          "text": [
            "Hello\n",
            "World!\n",
            "Hello\n"
          ]
        }
      ]
    },
    {
      "cell_type": "markdown",
      "source": [
        "**Skipping Characters in Substrings**\n",
        "\n",
        "Slicing also allows specifying a step to skip characters.\n",
        "\n",
        "Slicing Syntax with Step\n",
        "\n",
        "    substring = text[start:end:step]\n",
        "\n",
        "step: Specifies how many characters to skip. Default is 1.\n"
      ],
      "metadata": {
        "id": "x-Lhgu3fkBmQ"
      }
    },
    {
      "cell_type": "code",
      "source": [
        "text = \"PythonProgramming\"\n",
        "\n",
        "# Substring with every 2nd character\n",
        "print(text[0:10:2])  # Output: PtoPo\n",
        "\n",
        "# Reversing the string\n",
        "print(text[::-1])  # Output: gnimmargorPnohtyP\n"
      ],
      "metadata": {
        "colab": {
          "base_uri": "https://localhost:8080/"
        },
        "id": "fg8B-JJ9kMAJ",
        "outputId": "f8ab08da-4f11-4efc-a66c-a88a85213269"
      },
      "execution_count": null,
      "outputs": [
        {
          "output_type": "stream",
          "name": "stdout",
          "text": [
            "PtoPo\n",
            "gnimmargorPnohtyP\n"
          ]
        }
      ]
    },
    {
      "cell_type": "markdown",
      "source": [
        "**Checking if a Character or Substring Exists**\n",
        "\n",
        "You can use the **in** and **not** in operators to check for the presence of a character or substring."
      ],
      "metadata": {
        "id": "m_PnTJ6AmWZf"
      }
    },
    {
      "cell_type": "code",
      "source": [
        "text = \"PythonProgramming\"\n",
        "\n",
        "# Check if a character exists\n",
        "print(\"P\" in text)      # Output: True\n",
        "print(\"Z\" in text)      # Output: False\n",
        "\n",
        "# Check if a substring exists\n",
        "print(\"Pro\" in text)    # Output: True\n",
        "print(\"Java\" not in text)  # Output: True\n"
      ],
      "metadata": {
        "colab": {
          "base_uri": "https://localhost:8080/"
        },
        "id": "k_DLHWDNoA3t",
        "outputId": "039639a6-888d-4f39-b8d2-1158b4d2db9e"
      },
      "execution_count": null,
      "outputs": [
        {
          "output_type": "stream",
          "name": "stdout",
          "text": [
            "True\n",
            "False\n",
            "True\n",
            "True\n"
          ]
        }
      ]
    },
    {
      "cell_type": "markdown",
      "source": [
        "## **Cryptography:**\n",
        "\n",
        "#Encryption:\n",
        "\n",
        "Encryption is the process of encoding the data. i.e converting plain text into ciphertext. This conversion is done with a key called an encryption key.\n",
        "\n",
        "#Decryption:\n",
        "\n",
        "Decryption is the process of decoding the encoded data. Converting the ciphertext into plain text. This process requires a key that we used for encryption.\n",
        "\n",
        "We require a key for encryption. There are two main types of keys used for encryption and decryption. They are Symmetric-key and Asymmetric-key.\n",
        "\n",
        "#Symmetric-key Encryption:\n",
        "\n",
        "In symmetric-key encryption, the data is encoded and decoded with the same key."
      ],
      "metadata": {
        "id": "YvHWAgVOh6LY"
      }
    },
    {
      "cell_type": "markdown",
      "source": [
        "Install the python cryptography library with the following command."
      ],
      "metadata": {
        "id": "E7qejShKjd6e"
      }
    },
    {
      "cell_type": "code",
      "source": [
        "pip install cryptography"
      ],
      "metadata": {
        "colab": {
          "base_uri": "https://localhost:8080/"
        },
        "id": "ZYCh9oDmpvh7",
        "outputId": "bfa56c2c-2ebd-4d21-e9ac-617cf1957759"
      },
      "execution_count": null,
      "outputs": [
        {
          "output_type": "stream",
          "name": "stdout",
          "text": [
            "Requirement already satisfied: cryptography in /usr/local/lib/python3.11/dist-packages (43.0.3)\n",
            "Requirement already satisfied: cffi>=1.12 in /usr/local/lib/python3.11/dist-packages (from cryptography) (1.17.1)\n",
            "Requirement already satisfied: pycparser in /usr/local/lib/python3.11/dist-packages (from cffi>=1.12->cryptography) (2.22)\n"
          ]
        }
      ]
    },
    {
      "cell_type": "markdown",
      "source": [
        "Fernet is a symmetric encryption method that uses the same key for both encryption and decryption."
      ],
      "metadata": {
        "id": "uIb3WI4xj0z0"
      }
    },
    {
      "cell_type": "code",
      "source": [
        "from cryptography.fernet import Fernet\n",
        "import base64\n",
        "\n",
        "# Step 1: Alice's Role - Key creation and encryption\n",
        "print(\"\\n--- Alice's Role ---\")\n",
        "custom_text = input(\"Alice, enter your custom key (any text to share with Bob): \")\n",
        "\n",
        "# Ensure the custom key is exactly 32 bytes (pad or trim is done to make it 32 bytes)\n",
        "custom_text_32bytes = custom_text.ljust(32)[:32]  # Pad with spaces or trim to 32 characters\n",
        "# Encode as Base64 (fernet key must be 32 url-safe base64-encoded bytes.)\n",
        "custom_key = base64.urlsafe_b64encode(custom_text_32bytes.encode())\n",
        "\n",
        "print(\"\\nGenerated Custom Key (to be securely shared with Bob):\", custom_key)\n",
        "\n",
        "# Alice encrypts a message\n",
        "cipher_alice = Fernet(custom_key)\n",
        "message = input(\"\\nAlice, enter the message to encrypt: \").encode()  # Convert to bytes\n",
        "encrypted_message = cipher_alice.encrypt(message)\n",
        "\n",
        "print(\"\\nEncrypted Message (Alice sends this to Bob):\", encrypted_message)\n",
        "\n",
        "# Show Visual Representation After Encryption\n",
        "print(\"\\n--- Visual Representation After Encryption ---\")\n",
        "print(\"\"\"\n",
        "+-----------------+                 +-----------------+\n",
        "|                 |   Encrypted     |                 |\n",
        "|     Alice       |   Message --->  |      Bob        |\n",
        "|                 |                 |                 |\n",
        "+-----------------+                 +-----------------+\n",
        "\n",
        "              Custom Key (Shared Secret)\n",
        "\"\"\")\n",
        "\n",
        "# Step 2: Bob's Role - Decryption\n",
        "print(\"\\n--- Bob's Role ---\")\n",
        "bob_custom_text = input(\"Bob, enter the shared custom key from Alice: \")\n",
        "\n",
        "# Ensure Bob creates the same Fernet-compatible key\n",
        "bob_custom_text_32bytes = bob_custom_text.ljust(32)[:32]  # Pad or trim to 32 characters\n",
        "bob_custom_key = base64.urlsafe_b64encode(bob_custom_text_32bytes.encode())  # Encode as Base64\n",
        "\n",
        "# Bob creates a cipher with the key\n",
        "cipher_bob = Fernet(bob_custom_key)\n",
        "\n",
        "# Bob decrypts the received encrypted message\n",
        "decrypted_message = cipher_bob.decrypt(encrypted_message).decode()  # Convert back to string\n",
        "\n",
        "print(\"\\nDecrypted Message (Bob reads):\", decrypted_message)\n",
        "\n"
      ],
      "metadata": {
        "colab": {
          "base_uri": "https://localhost:8080/"
        },
        "id": "8EL8iM1jqH-O",
        "outputId": "6f82460e-e015-42d9-ad99-a45d523529b2"
      },
      "execution_count": null,
      "outputs": [
        {
          "output_type": "stream",
          "name": "stdout",
          "text": [
            "\n",
            "--- Alice's Role ---\n",
            "Alice, enter your custom key (any text to share with Bob): 1234567\n",
            "\n",
            "Generated Custom Key (to be securely shared with Bob): b'MTIzNDU2NyAgICAgICAgICAgICAgICAgICAgICAgICA='\n",
            "\n",
            "Alice, enter the message to encrypt: hai how r u\n",
            "\n",
            "Encrypted Message (Alice sends this to Bob): b'gAAAAABnkgs4dJT0tVFjUGqdPCBntGlaKch5YBJynS4GS1SpPk_b4TY9FiqHmOl1--d4jKiQDnp-c5v58htsY7yK0mxf8xeYsQ=='\n",
            "\n",
            "--- Visual Representation After Encryption ---\n",
            "\n",
            "+-----------------+                 +-----------------+\n",
            "|                 |   Encrypted     |                 |\n",
            "|     Alice       |   Message --->  |      Bob        |\n",
            "|                 |                 |                 |\n",
            "+-----------------+                 +-----------------+\n",
            "\n",
            "              Custom Key (Shared Secret)\n",
            "\n",
            "\n",
            "--- Bob's Role ---\n",
            "Bob, enter the shared custom key from Alice: 1234567\n",
            "\n",
            "Decrypted Message (Bob reads): hai how r u\n"
          ]
        }
      ]
    },
    {
      "cell_type": "markdown",
      "source": [
        "#Asymmetric-key Encryption:\n",
        "\n",
        "In Asymmetric-key Encryption, we use two keys a public key and a private key. The public key is used to encrypt the data and the private key is used to decrypt the data. By the name, the public key can be public (can be sent to anyone who needs to send data). No one has your private key, so no one in the middle can read your data.\n",
        "\n",
        "\n",
        "Example: RSA\n",
        "\n",
        "Install the python rsa library with the following command.\n",
        "\n",
        "    pip install rsa"
      ],
      "metadata": {
        "id": "-npzTsJyMN-1"
      }
    },
    {
      "cell_type": "code",
      "source": [
        "pip install rsa\n"
      ],
      "metadata": {
        "colab": {
          "base_uri": "https://localhost:8080/"
        },
        "id": "xI412yk1Mjpw",
        "outputId": "8c88cdbc-b4dc-4922-ad9e-ce696b4950b4"
      },
      "execution_count": null,
      "outputs": [
        {
          "output_type": "stream",
          "name": "stdout",
          "text": [
            "Requirement already satisfied: rsa in /usr/local/lib/python3.11/dist-packages (4.9)\n",
            "Requirement already satisfied: pyasn1>=0.1.3 in /usr/local/lib/python3.11/dist-packages (from rsa) (0.6.1)\n"
          ]
        }
      ]
    },
    {
      "cell_type": "markdown",
      "source": [
        "#Steps in RSA\n",
        "\n",
        "*   Import rsa library\n",
        "*   Generate public and private keys with rsa.newkeys() method.\n",
        "*   Encode the string to byte string.\n",
        "*   Then encrypt the byte string with the public key.\n",
        "*   Then the encrypted string can be decrypted with the private key.\n",
        "*   The public key can only be used for encryption and the private can only be used for decryption."
      ],
      "metadata": {
        "id": "WaB16QuRPNGR"
      }
    },
    {
      "cell_type": "code",
      "source": [
        "import rsa\n",
        "\n",
        "# generate public and private keys with\n",
        "# rsa.newkeys method,this method accepts\n",
        "# key length as its parameter\n",
        "# key length should be atleast 16\n",
        "publicKey, privateKey = rsa.newkeys(512)\n",
        "\n",
        "# this is the string that we will be encrypting\n",
        "message = \"Hi jikkku \"\n",
        "\n",
        "# rsa.encrypt method is used to encrypt\n",
        "# string with public key string should be\n",
        "# encode to byte string before encryption\n",
        "# with encode method\n",
        "encMessage = rsa.encrypt(message.encode(),\n",
        "                         publicKey)\n",
        "\n",
        "print(\"original string: \", message)\n",
        "print(\"encrypted string: \", encMessage)\n",
        "\n",
        "# the encrypted message can be decrypted\n",
        "# with ras.decrypt method and private key\n",
        "# decrypt method returns encoded byte string,\n",
        "# use decode method to convert it to string\n",
        "# public key cannot be used for decryption\n",
        "decMessage = rsa.decrypt(encMessage, privateKey).decode()\n",
        "\n",
        "print(\"decrypted string: \", decMessage)\n"
      ],
      "metadata": {
        "colab": {
          "base_uri": "https://localhost:8080/"
        },
        "id": "_DlHMjyQQS6P",
        "outputId": "b506aa6b-b46a-46fa-f636-32c8ad8f6061"
      },
      "execution_count": null,
      "outputs": [
        {
          "output_type": "stream",
          "name": "stdout",
          "text": [
            "original string:  Hi jikkku \n",
            "encrypted string:  b'U\\xba\\xe0|\\x99L\\xa6V\\x95v\\xaf\\xb7bQS8D\\xbb(\\xf3j9\\xa8n\\x8b\\xfawZ\\x06\\x12\\xbb\\x99\\x01*nGd\\x8d/\\xb8\\x97j\\xf6\\xe2\\xc9\\xb9\\x94\\x163\\xce\\xfe\\xf6\\x16\\r\\xa1D\\xbd{n\\xf0\\xcc\\xa5<\\x13'\n",
            "decrypted string:  Hi jikkku \n"
          ]
        }
      ]
    },
    {
      "cell_type": "markdown",
      "source": [
        "# **Hash**\n",
        "\n",
        "A hash is a function that converts input data of any size into a fixed-length string of characters, typically a sequence of numbers and letters. The output of this function is called the hash value, digest, or hash code.\n",
        "\n",
        "\n",
        "Common Hash Algorithms\n",
        "\n",
        "MD5: Produces a 128-bit hash; now considered weak due to vulnerabilities.\n",
        "\n",
        "SHA-1: Produces a 160-bit hash; deprecated due to collision attacks.\n",
        "\n",
        "SHA-256: A member of the SHA-2 family; widely used for security and integrity.\n",
        "\n",
        "SHA-3: The latest standard, with enhanced security features."
      ],
      "metadata": {
        "id": "kPSj49V0W2iy"
      }
    },
    {
      "cell_type": "code",
      "source": [
        "# Python program to demonstrate hashing\n",
        "\n",
        "# Define a string\n",
        "input_string = \"Hello,world!\"\n",
        "\n",
        "# Hash the string using Python's built-in hash() function\n",
        "hash_value = hash(input_string)\n",
        "\n",
        "# Print the original string and its hash value\n",
        "print(\"Original String:\", input_string)\n",
        "print(\"Hash Value:\", hash_value)\n"
      ],
      "metadata": {
        "colab": {
          "base_uri": "https://localhost:8080/"
        },
        "id": "RAMNwaY0XJQq",
        "outputId": "e6733b06-3e67-4bbd-f70d-6d8dbe80fa65"
      },
      "execution_count": null,
      "outputs": [
        {
          "output_type": "stream",
          "name": "stdout",
          "text": [
            "Original String: Hello,world!\n",
            "Hash Value: 7754825460192256216\n"
          ]
        }
      ]
    },
    {
      "cell_type": "markdown",
      "source": [
        "#**Tutorial**\n",
        "\n",
        "Write a Python program to compute the SHA-256 hash of a file named example.txt. Assume the file contains some text data.\n",
        "\n",
        "Your program should:\n",
        "\n",
        "1. Open the file in binary mode.\n",
        "\n",
        "2. Compute the hash using the hashlib module.\n",
        "\n",
        "3. Print the SHA-256 hash value of the file."
      ],
      "metadata": {
        "id": "9_Ii68c5X-06"
      }
    },
    {
      "cell_type": "markdown",
      "source": [
        "# **Strings and Number System**\n",
        "\n",
        "\n",
        "Strings in Python can represent textual data and also be used to work with numbers in different bases.\n",
        "\n",
        "\n",
        "Number System in Strings\n",
        "\n",
        "\n",
        "Strings can represent numbers in various bases, such as binary, octal, decimal, and hexadecimal.\n",
        "\n",
        "Use the int() function to convert strings of different bases into decimal integers:"
      ],
      "metadata": {
        "id": "8N2oMcikD4dA"
      }
    },
    {
      "cell_type": "code",
      "source": [
        "binary = \"1010\"\n",
        "decimal = int(binary, 2)  # Binary to decimal\n",
        "print(decimal)  # Output: 10\n",
        "\n",
        "hexadecimal = \"1F\"\n",
        "decimal = int(hexadecimal, 16)  # Hexadecimal to decimal\n",
        "print(decimal)  # Output: 31\n"
      ],
      "metadata": {
        "colab": {
          "base_uri": "https://localhost:8080/"
        },
        "id": "zSLQ4TGRELpH",
        "outputId": "75e9072a-8233-434c-899a-dfce4b8b2b0f"
      },
      "execution_count": null,
      "outputs": [
        {
          "output_type": "stream",
          "name": "stdout",
          "text": [
            "10\n",
            "31\n"
          ]
        }
      ]
    },
    {
      "cell_type": "markdown",
      "source": [
        "To convert integers back to different bases:\n",
        "\n",
        "1. bin(): Convert to binary.\n",
        "2. oct(): Convert to octal.\n",
        "3. hex(): Convert to hexadecimal.\n",
        "\n"
      ],
      "metadata": {
        "id": "UUFztdstETlH"
      }
    },
    {
      "cell_type": "code",
      "source": [
        "num = 10\n",
        "print(bin(num))  # Output: 0b1010\n",
        "print(oct(num))  # Output: 0o12\n",
        "print(hex(num))  # Output: 0xa\n"
      ],
      "metadata": {
        "colab": {
          "base_uri": "https://localhost:8080/"
        },
        "id": "66U0-TnC-7Qz",
        "outputId": "e987ab4c-313e-4a12-973c-297208e76113"
      },
      "execution_count": null,
      "outputs": [
        {
          "output_type": "stream",
          "name": "stdout",
          "text": [
            "0b1010\n",
            "0o12\n",
            "0xa\n"
          ]
        }
      ]
    },
    {
      "cell_type": "markdown",
      "source": [
        "#**String methods**\n",
        "\n",
        "String methods are built-in functions in programming languages that allow you to manipulate, analyze, and format strings. Here's an overview of commonly used string methods in Python:\n",
        "\n",
        "**1. Case Conversion**\n",
        "\n",
        ".lower(): Converts all characters to lowercase.\n",
        "\n",
        "    Example: \"HELLO\".lower() → 'hello'\n",
        "\n",
        ".upper(): Converts all characters to uppercase.\n",
        "\n",
        "    Example: \"hello\".upper() → 'HELLO'\n",
        "\n",
        ".capitalize(): Capitalizes the first character of the string.\n",
        "\n",
        "    Example: \"hello world\".capitalize() → 'Hello world'\n",
        "\n",
        ".title(): Capitalizes the first character of each word.\n",
        "\n",
        "    Example: \"hello world\".title() → 'Hello World'\n",
        "\n",
        ".swapcase(): Swaps uppercase to lowercase and vice versa.\n",
        "\n",
        "    Example: \"HeLLo WoRLd\".swapcase() → 'hEllO wOrlD'"
      ],
      "metadata": {
        "id": "0f0dvpaIPlAx"
      }
    },
    {
      "cell_type": "markdown",
      "source": [
        "2. Whitespace Handling\n",
        "\n",
        ".strip(): Removes leading and trailing whitespace.\n",
        "\n",
        "    Example: \" hello \".strip() → 'hello'\n",
        "\n",
        ".lstrip(): Removes leading whitespace.\n",
        "    \n",
        "    Example: \" hello \".lstrip() → 'hello '\n",
        "\n",
        ".rstrip(): Removes trailing whitespace.\n",
        "    \n",
        "    Example: \" hello \".rstrip() → ' hello'"
      ],
      "metadata": {
        "id": "vp6rmkf-S5v2"
      }
    },
    {
      "cell_type": "markdown",
      "source": [
        "#**3. Search and Replace**\n",
        "\n",
        ".find(substring): Returns the first index of the substring. Returns -1 if not found.\n",
        "    \n",
        "    Example: \"hello\".find(\"l\") → 2\n",
        "\n",
        ".index(substring): Similar to .find(), but raises an error if the substring is not found.\n",
        "    \n",
        "    Example: \"hello\".index(\"l\") → 2\n",
        "\n",
        ".replace(old, new): Replaces occurrences of a substring with another substring.\n",
        "    \n",
        "    Example: \"hello world\".replace(\"world\", \"Python\") → 'hello Python'\n",
        "\n",
        ".count(substring): Counts occurrences of a substring.\n",
        "    \n",
        "    Example: \"hello\".count(\"l\") → 2\n",
        "\n",
        "#**4. String Formatting**\n",
        "\n",
        "\n",
        ".join(iterable): Joins elements of an iterable (like a list) into a string.\n",
        "    \n",
        "    Example: \",\".join([\"a\", \"b\", \"c\"]) → 'a,b,c'\n",
        "\n",
        ".split(separator): Splits a string into a list based on a separator.\n",
        "    \n",
        "    Example: \"a,b,c\".split(\",\") → ['a', 'b', 'c']\n",
        "\n",
        ".partition(substring): Splits a string into three parts: before, the match, and after.\n",
        "    \n",
        "    Example: \"hello world\".partition(\" \") → ('hello', ' ', 'world')\n",
        "\n",
        ".format(): Formats strings using placeholders.\n",
        "    \n",
        "    Example: \"Hello, {}!\".format(\"Alice\") → 'Hello, Alice!'\n",
        "\n",
        "f-strings: A newer and more readable way to format strings.\n",
        "\n",
        "    Example: name = \"Alice\"; f\"Hello, {name}!\" → 'Hello, Alice!'\n",
        "\n",
        "#**5. Validation**\n",
        "\n",
        "\n",
        ".isalnum(): Checks if all characters are alphanumeric.\n",
        "\n",
        "    Example: \"abc123\".isalnum() → True\n",
        "\n",
        ".isalpha(): Checks if all characters are alphabetic.\n",
        "    \n",
        "    Example: \"abc\".isalpha() → True\n",
        "\n",
        ".isdigit(): Checks if all characters are digits.\n",
        "    \n",
        "    Example: \"123\".isdigit() → True\n",
        "\n",
        ".isspace(): Checks if the string contains only whitespace.\n",
        "    \n",
        "    Example: \" \".isspace() → True\n",
        "\n",
        ".startswith(prefix): Checks if the string starts with a specific substring.\n",
        "    \n",
        "    Example: \"hello\".startswith(\"he\") → True\n",
        "\n",
        ".endswith(suffix): Checks if the string ends with a specific substring.\n",
        "    \n",
        "    Example: \"hello\".endswith(\"lo\") → True\n",
        "\n",
        "**#6. Miscellaneous**\n",
        "\n",
        ".len(): Returns the length of the string.\n",
        "    \n",
        "    Example: len(\"hello\") → 5\n",
        "\n",
        ".zfill(width): Pads the string with zeros on the left to fill the specified width.\n",
        "Example: \"42\".zfill(5) → '00042'\n",
        "\n"
      ],
      "metadata": {
        "id": "9GAa1KC_Two7"
      }
    },
    {
      "cell_type": "markdown",
      "source": [
        "#***Tutorial:***\n",
        "\n",
        "Get Input from the User\n",
        "Write a program that asks the user to input a sentence.\n",
        "\n",
        "Perform the Following Operations Using String Methods:\n",
        "\n",
        "a. Convert the string to uppercase and lowercase, and print the results.\n",
        "\n",
        "b. Find and print the length of the string.\n",
        "\n",
        "c. Count how many times the word \"the\" (case-insensitive) appears in the string.\n",
        "\n",
        "d. Check if the string ends with a punctuation mark (e.g., ., !, ?). Print True\n",
        "or False.\n",
        "\n",
        "e. Replace all spaces with a hyphen (-) and print the modified string.\n",
        "\n",
        "f. Extract and print the first word from the string."
      ],
      "metadata": {
        "id": "pp836Tkks1LL"
      }
    },
    {
      "cell_type": "markdown",
      "source": [
        "# **3. Text Files**\n",
        "\n",
        "Python provides tools to work with text files for reading and writing.\n",
        "\n",
        "**Reading from a Text File**\n",
        "\n",
        "Open the file in read mode ('r') and use methods like read() or readlines()."
      ],
      "metadata": {
        "id": "4IuMWuljEoIv"
      }
    },
    {
      "cell_type": "code",
      "source": [
        "with open(\"jikku.txt\", \"r\") as file:\n",
        "    content = file.read()\n",
        "    print(content)\n"
      ],
      "metadata": {
        "id": "8029wWEDFUhQ",
        "outputId": "48037813-96b8-48b6-8a07-4b83d44cad39",
        "colab": {
          "base_uri": "https://localhost:8080/"
        }
      },
      "execution_count": null,
      "outputs": [
        {
          "output_type": "stream",
          "name": "stdout",
          "text": [
            "HAI    H R UUUUUUUUUUUUUUUUUUUUUUUUUUUUUUUUUUUUU\n"
          ]
        }
      ]
    },
    {
      "cell_type": "markdown",
      "source": [
        "**Writing to a Text File**\n",
        "\n",
        "Open the file in write mode ('w') or append mode ('a')."
      ],
      "metadata": {
        "id": "OgEXAK9NJu03"
      }
    },
    {
      "cell_type": "code",
      "source": [
        "with open(\"jikku.txt\", \"a\") as file:\n",
        "    file.write(\"This is a new line.\\n\")\n",
        "    file.write(\"Another line.\\n\")\n",
        "with open(\"jikku.txt\", \"r\") as file:\n",
        "    content = file.read()\n",
        "    print(content)\n"
      ],
      "metadata": {
        "colab": {
          "base_uri": "https://localhost:8080/"
        },
        "id": "OpIIPvC2J132",
        "outputId": "ea39294d-b047-4d6e-d19f-575febad5f7d"
      },
      "execution_count": null,
      "outputs": [
        {
          "output_type": "stream",
          "name": "stdout",
          "text": [
            "This is a new line.\n",
            "Another line.\n",
            "This is a new line.\n",
            "Another line.\n",
            "This is a new line.\n",
            "Another line.\n",
            "This is a new line.\n",
            "Another line.\n",
            "\n"
          ]
        }
      ]
    },
    {
      "cell_type": "code",
      "source": [
        "capture\n",
        "from google.colab import drive\n",
        "\n",
        "# Mount your Google Drive\n",
        "drive.mount('/content/drive')\n",
        "\n",
        "print(\"Google Drive is mounted!\")"
      ],
      "metadata": {
        "id": "m0ffNSkwDX5Z"
      },
      "execution_count": null,
      "outputs": []
    },
    {
      "cell_type": "code",
      "source": [
        "!pip install Pillow\n"
      ],
      "metadata": {
        "colab": {
          "base_uri": "https://localhost:8080/"
        },
        "id": "Sr288v9NEn4G",
        "outputId": "488f0409-a82f-441b-c1fb-03b247453456"
      },
      "execution_count": null,
      "outputs": [
        {
          "output_type": "stream",
          "name": "stdout",
          "text": [
            "Requirement already satisfied: Pillow in /usr/local/lib/python3.11/dist-packages (11.1.0)\n"
          ]
        }
      ]
    },
    {
      "cell_type": "markdown",
      "source": [],
      "metadata": {
        "id": "G0UTX7KOGik4"
      }
    },
    {
      "cell_type": "code",
      "source": [
        "!pip install matplotlib\n"
      ],
      "metadata": {
        "colab": {
          "base_uri": "https://localhost:8080/"
        },
        "id": "bWVO0ujcGjMw",
        "outputId": "a31a99eb-f86f-4424-a6a4-c61c05d95f3a"
      },
      "execution_count": null,
      "outputs": [
        {
          "output_type": "stream",
          "name": "stdout",
          "text": [
            "Requirement already satisfied: matplotlib in /usr/local/lib/python3.11/dist-packages (3.10.0)\n",
            "Requirement already satisfied: contourpy>=1.0.1 in /usr/local/lib/python3.11/dist-packages (from matplotlib) (1.3.1)\n",
            "Requirement already satisfied: cycler>=0.10 in /usr/local/lib/python3.11/dist-packages (from matplotlib) (0.12.1)\n",
            "Requirement already satisfied: fonttools>=4.22.0 in /usr/local/lib/python3.11/dist-packages (from matplotlib) (4.55.4)\n",
            "Requirement already satisfied: kiwisolver>=1.3.1 in /usr/local/lib/python3.11/dist-packages (from matplotlib) (1.4.8)\n",
            "Requirement already satisfied: numpy>=1.23 in /usr/local/lib/python3.11/dist-packages (from matplotlib) (1.26.4)\n",
            "Requirement already satisfied: packaging>=20.0 in /usr/local/lib/python3.11/dist-packages (from matplotlib) (24.2)\n",
            "Requirement already satisfied: pillow>=8 in /usr/local/lib/python3.11/dist-packages (from matplotlib) (11.1.0)\n",
            "Requirement already satisfied: pyparsing>=2.3.1 in /usr/local/lib/python3.11/dist-packages (from matplotlib) (3.2.1)\n",
            "Requirement already satisfied: python-dateutil>=2.7 in /usr/local/lib/python3.11/dist-packages (from matplotlib) (2.8.2)\n",
            "Requirement already satisfied: six>=1.5 in /usr/local/lib/python3.11/dist-packages (from python-dateutil>=2.7->matplotlib) (1.17.0)\n"
          ]
        }
      ]
    },
    {
      "cell_type": "code",
      "source": [
        "import matplotlib.pyplot as plt\n",
        "import matplotlib.image as mpimg\n",
        "\n",
        "# Open an image file\n",
        "image_path = \"/content/drive/MyDrive/Photo/cars.jpg\"  # Provide the full path to the image file\n",
        "img = mpimg.imread(image_path)\n",
        "\n",
        "# Display the image\n",
        "plt.imshow(img)\n",
        "plt.axis('on')  # Optional: Hide axes for better view\n",
        "plt.show()"
      ],
      "metadata": {
        "colab": {
          "base_uri": "https://localhost:8080/",
          "height": 205
        },
        "id": "Ah1gBOILGpSh",
        "outputId": "d71c3b0d-97da-4152-97c4-90c5ba92d797"
      },
      "execution_count": null,
      "outputs": [
        {
          "output_type": "display_data",
          "data": {
            "text/plain": [
              "<Figure size 640x480 with 1 Axes>"
            ],
            "image/png": "[encoded data removed]"
          },
          "metadata": {}
        }
      ]
    },
    {
      "cell_type": "markdown",
      "source": [
        "**Tutorial Question:**\n",
        "\n",
        "File Management in Google Drive\n",
        "\n",
        "1. Mount Google Drive:\n",
        "\n",
        "Mount your Google Drive to access files stored there. Provide a message when the Drive is successfully mounted.\n",
        "\n",
        "2. Upload a File:\n",
        "\n",
        "Upload a file from your local machine to the root of your Google Drive.\n",
        "\n",
        "3. Access and Display a File:\n",
        "\n",
        "After uploading, access the file in your Google Drive and display its path.\n",
        "\n",
        "4. Download the File:\n",
        "\n",
        "Finally, download the file back to your local machine from Google Drive."
      ],
      "metadata": {
        "id": "guoLgIa5I4IV"
      }
    },
    {
      "cell_type": "markdown",
      "source": [
        "#**Function**\n",
        "\n",
        "A function in Python is a reusable block of code designed to perform a specific task. Functions help organize code, reduce repetition, and enhance readability and maintainability.\n",
        "\n"
      ],
      "metadata": {
        "id": "M5_fqi-gI6cX"
      }
    },
    {
      "cell_type": "markdown",
      "source": [
        "Syntax\n",
        "\n",
        "    def function_name(parameters):\n",
        "        \"\"\"\n",
        "        Optional docstring to describe the function.\n",
        "        \"\"\"\n",
        "        # Function body (logic)\n",
        "        return result  # Optional\n"
      ],
      "metadata": {
        "id": "sBUGReGQKlQD"
      }
    },
    {
      "cell_type": "markdown",
      "source": [
        "**Key Elements of a Python Function**\n",
        "\n",
        "1. Function Name:\n",
        "\n",
        "Identifier for the function, following standard naming conventions.\n",
        "Parameters:\n",
        "\n",
        "Variables passed to the function to provide input data.\n"
      ],
      "metadata": {
        "id": "I2ut1yx-1eQJ"
      }
    },
    {
      "cell_type": "markdown",
      "source": [
        "2. Parameters:\n",
        "\n",
        "Variables passed to the function to provide input data."
      ],
      "metadata": {
        "id": "iGgyy6QR1w34"
      }
    },
    {
      "cell_type": "markdown",
      "source": [],
      "metadata": {
        "id": "9wmiCfcX1waR"
      }
    },
    {
      "cell_type": "code",
      "source": [
        "def add(a, b):\n",
        "    return a + b\n"
      ],
      "metadata": {
        "id": "KxrkwNqJ1dqB"
      },
      "execution_count": null,
      "outputs": []
    },
    {
      "cell_type": "markdown",
      "source": [
        "3. Function Body:\n",
        "\n",
        "The code inside the function that defines its behavior.\n",
        "\n",
        "4. Return Statement:\n",
        "\n",
        "Allows the function to send a result back to the caller.\n"
      ],
      "metadata": {
        "id": "pr79fjHj18ho"
      }
    },
    {
      "cell_type": "code",
      "source": [
        "def square(number):\n",
        "    return number ** 2\n",
        "\n",
        "result = square(10)\n",
        "print(result)  # Output: 16\n"
      ],
      "metadata": {
        "colab": {
          "base_uri": "https://localhost:8080/"
        },
        "id": "O7O4E1CS2Hcw",
        "outputId": "9dc38f0a-be4f-4825-f8db-f34da4d72916"
      },
      "execution_count": null,
      "outputs": [
        {
          "output_type": "stream",
          "name": "stdout",
          "text": [
            "100\n"
          ]
        }
      ]
    },
    {
      "cell_type": "markdown",
      "source": [
        "\n",
        "\n",
        "---\n",
        "\n"
      ],
      "metadata": {
        "id": "KuBeZWxu3ie1"
      }
    },
    {
      "cell_type": "markdown",
      "source": [
        "1. Function Without Parameters and no return value"
      ],
      "metadata": {
        "id": "dRndlehT1Dqa"
      }
    },
    {
      "cell_type": "code",
      "source": [
        "def greet():\n",
        "  print(\"Hello, world!\")\n",
        "\n",
        "\n",
        "print(greet())  # Output: Hello, world!  (to return )\n"
      ],
      "metadata": {
        "colab": {
          "base_uri": "https://localhost:8080/"
        },
        "id": "LwvsSvikN8b5",
        "outputId": "40a3b96d-fbd5-42f5-db02-6a7487834535"
      },
      "execution_count": null,
      "outputs": [
        {
          "output_type": "stream",
          "name": "stdout",
          "text": [
            "Hello, world!\n",
            "None\n"
          ]
        }
      ]
    },
    {
      "cell_type": "markdown",
      "source": [
        "2. Function With Parameters"
      ],
      "metadata": {
        "id": "bcsAkaFk1Ftp"
      }
    },
    {
      "cell_type": "code",
      "source": [
        "# parameters\n",
        "def greet(first_name , last_name):\n",
        "  \"\"\"Prints a greeting message with the provided name.\"\"\"\n",
        "  print(f\"Hello, {first_name} {last_name}!\")\n",
        "\n",
        "greet(\"jikku\", \"thomas\")\n",
        "greet(\"thomas\", \"joe\")\n",
        "print(greet(\"joe\", \"thomas\"))"
      ],
      "metadata": {
        "colab": {
          "base_uri": "https://localhost:8080/"
        },
        "id": "Elj-wM01dFBP",
        "outputId": "4b7d2131-74b9-42bb-97e8-d66e2aea819d"
      },
      "execution_count": null,
      "outputs": [
        {
          "output_type": "stream",
          "name": "stdout",
          "text": [
            "Hello, jikku thomas!\n",
            "Hello, thomas joe!\n",
            "Hello, joe thomas!\n",
            "None\n"
          ]
        }
      ]
    },
    {
      "cell_type": "code",
      "source": [
        "# with return\n",
        "def calculate_tax(income, tax_rate):\n",
        "    return income * tax_rate\n"
      ],
      "metadata": {
        "id": "t-IU371YKkva"
      },
      "execution_count": null,
      "outputs": []
    },
    {
      "cell_type": "code",
      "source": [
        "# Usage\n",
        "\n",
        "x = (calculate_tax(50000, 0.25))\n",
        "print (x)"
      ],
      "metadata": {
        "colab": {
          "base_uri": "https://localhost:8080/"
        },
        "id": "FCjrU8CEI594",
        "outputId": "0889453c-6b62-48dd-e2fa-b443668a2b94"
      },
      "execution_count": null,
      "outputs": [
        {
          "output_type": "stream",
          "name": "stdout",
          "text": [
            "12500.0\n"
          ]
        }
      ]
    },
    {
      "cell_type": "code",
      "source": [
        "# Function definition\n",
        "def greet(first_name, last_name):\n",
        "    \"\"\"Returns a greeting message with the provided name.\"\"\"\n",
        "    return f\"Hello, {first_name} {last_name}!\"\n",
        "\n",
        "# Generate the message\n",
        "message = greet(\"jikku\", \"thomas\")\n",
        "\n",
        "# Write the message to a file\n",
        "with open(\"jikku.txt\", \"a\") as file:\n",
        "    file.write(message)\n"
      ],
      "metadata": {
        "id": "5Vlyl27p4x-j"
      },
      "execution_count": null,
      "outputs": []
    },
    {
      "cell_type": "markdown",
      "source": [],
      "metadata": {
        "id": "8dHOgaU34PCc"
      }
    },
    {
      "cell_type": "markdown",
      "source": [
        "# **Types of Functions**\n",
        "\n",
        "1. Built-in Functions\n",
        "\n",
        "\n",
        "Python provides many built-in functions like len(), sum(), print(), etc."
      ],
      "metadata": {
        "id": "hBGGX_be6VWJ"
      }
    },
    {
      "cell_type": "code",
      "source": [
        "numbers = [1, 2, 3, 4]\n",
        "print(sum(numbers))  # Output: 10\n"
      ],
      "metadata": {
        "colab": {
          "base_uri": "https://localhost:8080/"
        },
        "id": "bi_wq4nv6kw8",
        "outputId": "0f2f7edc-9da4-4137-ce57-cf51b0da4376"
      },
      "execution_count": null,
      "outputs": [
        {
          "output_type": "stream",
          "name": "stdout",
          "text": [
            "10\n"
          ]
        }
      ]
    },
    {
      "cell_type": "markdown",
      "source": [
        "2. User-Defined Functions\n",
        "\n",
        "Functions created by the programmer for specific use cases."
      ],
      "metadata": {
        "id": "OQ0a1VIh6qP5"
      }
    },
    {
      "cell_type": "code",
      "source": [
        "def multiply(a, b):\n",
        "    return a * b\n",
        "\n",
        "print(multiply(3, 4))  # Output: 12\n"
      ],
      "metadata": {
        "colab": {
          "base_uri": "https://localhost:8080/"
        },
        "id": "7wkhv_Zg6sBZ",
        "outputId": "7839d57f-341b-4ae0-fd5b-844e3901086f"
      },
      "execution_count": null,
      "outputs": [
        {
          "output_type": "stream",
          "name": "stdout",
          "text": [
            "12\n"
          ]
        }
      ]
    },
    {
      "cell_type": "markdown",
      "source": [
        "3. Lambda Functions (Anonymous Functions)\n",
        "\n",
        "Single-expression functions defined using the lambda keyword.\n",
        "\n",
        "Lambda functions in Python are anonymous functions, meaning they don’t have a name. They are often used for short, simple operations that can be expressed in a single expression. The syntax for a lambda function is:\n",
        "\n",
        "    lambda arguments: expression\n"
      ],
      "metadata": {
        "id": "ZkGRaTpc61cZ"
      }
    },
    {
      "cell_type": "code",
      "source": [
        "square = lambda x: x ** 2\n",
        "print(square(5))  # Output: 25\n"
      ],
      "metadata": {
        "colab": {
          "base_uri": "https://localhost:8080/"
        },
        "id": "NMR85jbw7LRw",
        "outputId": "c534eeb0-6910-41f1-af48-29a45df4fcee"
      },
      "execution_count": null,
      "outputs": [
        {
          "output_type": "stream",
          "name": "stdout",
          "text": [
            "25\n"
          ]
        }
      ]
    },
    {
      "cell_type": "markdown",
      "source": [
        "4. Recursive Functions\n",
        "\n",
        "Functions that call themselves to solve smaller instances of a problem."
      ],
      "metadata": {
        "id": "5HNqYSLU7eA4"
      }
    },
    {
      "cell_type": "code",
      "source": [
        "def print_numbers(n):\n",
        "    \"\"\"Print numbers from n to 1 using recursion.\"\"\"\n",
        "    if n > 0:  # Base case\n",
        "        print(n)            # Print statement before recursion\n",
        "        print_numbers(n - 1)  # Recursive call\n",
        "\n",
        "# Test the function\n",
        "print_numbers(5)\n"
      ],
      "metadata": {
        "colab": {
          "base_uri": "https://localhost:8080/"
        },
        "id": "GpLgvZyK9bAN",
        "outputId": "8b11db27-b84b-4d8b-cb81-3c8817f10bf2"
      },
      "execution_count": null,
      "outputs": [
        {
          "output_type": "stream",
          "name": "stdout",
          "text": [
            "5\n",
            "4\n",
            "3\n",
            "2\n",
            "1\n"
          ]
        }
      ]
    },
    {
      "cell_type": "markdown",
      "source": [
        "**Assignment :Recursive Functions  (factorial of a number )**"
      ],
      "metadata": {
        "id": "0wc2mYsy9ip7"
      }
    },
    {
      "cell_type": "markdown",
      "source": [],
      "metadata": {
        "id": "j6SA0lOn8_6D"
      }
    },
    {
      "cell_type": "markdown",
      "source": [
        "1. Encapsulation\n",
        "\n",
        "A function groups related logic into a single unit, which can then be reused wherever required. This prevents code duplication and keeps the implementation details hidden."
      ],
      "metadata": {
        "id": "xz-mIXopSOu0"
      }
    },
    {
      "cell_type": "code",
      "source": [
        "def calculate_area(length, width):\n",
        "    return length * width\n",
        "\n",
        "# Usage\n",
        "area = calculate_area(5, 10)\n",
        "print(f\"The area is {area}\")\n"
      ],
      "metadata": {
        "colab": {
          "base_uri": "https://localhost:8080/"
        },
        "id": "VmKz1ygLSSvK",
        "outputId": "3dc7624a-d825-4f59-9a3b-3d8f5f2dfb95"
      },
      "execution_count": null,
      "outputs": [
        {
          "output_type": "stream",
          "name": "stdout",
          "text": [
            "The area is 50\n"
          ]
        }
      ]
    },
    {
      "cell_type": "markdown",
      "source": [
        "2. Reusability\n",
        "\n",
        "Once a function is written, it can be reused multiple times without rewriting the code.\n"
      ],
      "metadata": {
        "id": "iLs4x8SqSaPh"
      }
    },
    {
      "cell_type": "code",
      "source": [
        "def greet_user(name):\n",
        "    print(f\"Hello, {name}!\")"
      ],
      "metadata": {
        "id": "6HDNdzYkSit5"
      },
      "execution_count": null,
      "outputs": []
    },
    {
      "cell_type": "code",
      "source": [
        "greet_user(\"Alice\")\n",
        "greet_user(\"Bob\")\n",
        "greet_user(\"Charlie\")\n",
        "greet_user(\"David\")"
      ],
      "metadata": {
        "colab": {
          "base_uri": "https://localhost:8080/"
        },
        "id": "nqmjwNK1SnRp",
        "outputId": "6bba1a8c-60d6-463b-cd43-78f75040312d"
      },
      "execution_count": null,
      "outputs": [
        {
          "output_type": "stream",
          "name": "stdout",
          "text": [
            "Hello, Alice!\n",
            "Hello, Bob!\n",
            "Hello, Charlie!\n",
            "Hello, David!\n"
          ]
        }
      ]
    },
    {
      "cell_type": "markdown",
      "source": [
        "3. Hiding Implementation Details\n",
        "\n",
        "Functions enable you to hide how a task is performed while exposing a simple interface for the user.\n",
        "\n",
        "Example: Suppose you want to fetch data from a database, but you don't want the user to worry about connection details."
      ],
      "metadata": {
        "id": "e5UdJRvCTFr9"
      }
    },
    {
      "cell_type": "code",
      "source": [
        "def convert_to_celsius(fahrenheit):\n",
        "    \"\"\"Convert Fahrenheit to Celsius (hides formula details).\"\"\"\n",
        "    return (fahrenheit - 32) * 5 / 9\n",
        "\n",
        "# Using the function\n",
        "temperature_f = 98.6\n",
        "temperature_c = convert_to_celsius(temperature_f)\n",
        "print(f\"{temperature_f}°F is equivalent to {temperature_c:.2f}°C.\")\n"
      ],
      "metadata": {
        "colab": {
          "base_uri": "https://localhost:8080/"
        },
        "id": "x0gRVtju-H3k",
        "outputId": "7629bbff-2f8f-44fd-e788-f8399899e632"
      },
      "execution_count": null,
      "outputs": [
        {
          "output_type": "stream",
          "name": "stdout",
          "text": [
            "98.6°F is equivalent to 37.00°C.\n"
          ]
        }
      ]
    },
    {
      "cell_type": "markdown",
      "source": [
        "3. Modularity Through Smaller Functions\n",
        "\n",
        "Breaking down a large problem into smaller functions makes it easier to manage, debug, and test."
      ],
      "metadata": {
        "id": "pbbBXJNX-5ex"
      }
    },
    {
      "cell_type": "code",
      "source": [
        "# Breaking a task into logical parts\n",
        "def input_data():\n",
        "    return input(\"Enter your name: \")\n",
        "\n",
        "def process_data(name):\n",
        "    return name.strip().capitalize()\n",
        "\n",
        "def output_data(name):\n",
        "    print(f\"Hello, {name}!\")\n",
        "\n",
        "# Main program\n",
        "name = input_data()\n",
        "processed_name = process_data(name)\n",
        "output_data(processed_name)\n"
      ],
      "metadata": {
        "colab": {
          "base_uri": "https://localhost:8080/"
        },
        "id": "LnAG6SmG-9Gg",
        "outputId": "36aa612f-a2b9-4399-f5e9-69b090fc24b7"
      },
      "execution_count": null,
      "outputs": [
        {
          "output_type": "stream",
          "name": "stdout",
          "text": [
            "Enter your name: jikku\n",
            "Hello, Jikku!\n"
          ]
        }
      ]
    },
    {
      "cell_type": "markdown",
      "source": [
        "4. Higher-Order Abstraction\n",
        "\n",
        "A Higher-Order Function is a function that either:\n",
        "\n",
        "1. Takes one or more functions as arguments, or\n",
        "2. Returns a function as a result.\n",
        "\n",
        "In Python, higher-order functions allow for greater flexibility and abstraction by enabling functions to accept other functions as input and/or return functio\n"
      ],
      "metadata": {
        "id": "g3vz4alx_H9V"
      }
    },
    {
      "cell_type": "markdown",
      "source": [],
      "metadata": {
        "id": "2VsKi6K7TlFn"
      }
    },
    {
      "cell_type": "markdown",
      "source": [
        "**Example**: Passing Functions as Arguments"
      ],
      "metadata": {
        "id": "hs60v9nG_prJ"
      }
    },
    {
      "cell_type": "code",
      "source": [
        "def apply_operation(a, b, operation):\n",
        "    return operation(a, b)  #operation refers to a function that takes two arguments and performs a specific calculation or action\n",
        "\n",
        "def add(x, y):\n",
        "    return x + y\n",
        "\n",
        "def multiply(x, y):\n",
        "    return x * y\n",
        "\n",
        "print(apply_operation(3, 5, add))       # Output: 8\n",
        "print(apply_operation(3, 5, multiply))  # Output: 15\n"
      ],
      "metadata": {
        "id": "OScU1-87_sMJ",
        "outputId": "52c52648-911a-443d-a053-6bb472bc736a",
        "colab": {
          "base_uri": "https://localhost:8080/"
        }
      },
      "execution_count": null,
      "outputs": [
        {
          "output_type": "stream",
          "name": "stdout",
          "text": [
            "8\n",
            "15\n"
          ]
        }
      ]
    },
    {
      "cell_type": "markdown",
      "source": [
        "**Example** : Returns a function as a result.\n"
      ],
      "metadata": {
        "id": "EAUtuhh5awWg"
      }
    },
    {
      "cell_type": "code",
      "source": [
        "# Outer function that returns an inner function\n",
        "def outer(x):\n",
        "    def inner(y):\n",
        "        return x + y  # Inner function uses variable x from outer function\n",
        "    return inner  # Return the inner function\n",
        "\n",
        "# Create a new function that adds 10 to any number\n",
        "add_10 = outer(10)\n",
        "\n",
        "# Call the new function\n",
        "print(add_10(5))  # Output: 15\n"
      ],
      "metadata": {
        "colab": {
          "base_uri": "https://localhost:8080/"
        },
        "id": "_Rjh9379bEUz",
        "outputId": "42c7ec37-b70d-4008-e377-3b3c601f8d0c"
      },
      "execution_count": null,
      "outputs": [
        {
          "output_type": "stream",
          "name": "stdout",
          "text": [
            "15\n"
          ]
        }
      ]
    },
    {
      "cell_type": "markdown",
      "source": [
        "Assignment\n",
        "\n",
        "Question:\n",
        "\n",
        "Write a Python program that performs the following tasks:\n",
        "\n",
        "\n",
        "1. Asks the user for their name and their marks in Physics, Chemistry, and Mathematics.\n",
        "\n",
        "2. Defines a function that takes the marks of the three subjects as input and\n",
        "calculates the average marks.\n",
        "\n",
        "3. Displays the calculated average marks along with the student's name."
      ],
      "metadata": {
        "id": "tx5YS4XiA_w-"
      }
    },
    {
      "cell_type": "markdown",
      "source": [
        "\n",
        "Assignment\n",
        "\n",
        "Question:\n",
        "\n",
        "1. Write a Python program that performs the following tasks:\n",
        "\n",
        "2. Asks the user for their name and their marks in Physics, Chemistry, and Mathematics.\n",
        "\n",
        "3. Defines a function that takes the marks of the three subjects as input and calculates the average marks.\n",
        "\n",
        "4. Generates a report card for the student and saves it to a text file with the name format: student_name_report_card.txt.\n",
        "\n",
        "5. The report card should include the student's name, marks in Physics, Chemistry, and Mathematics, and their average marks."
      ],
      "metadata": {
        "id": "Rr_JOXjYVKb8"
      }
    },
    {
      "cell_type": "code",
      "source": [
        "# Function to calculate the average marks\n",
        "def calculate_average(physics, chemistry, maths):\n",
        "    \"\"\"Calculate the average of the three subjects.\"\"\"\n",
        "    return (physics + chemistry + maths) / 3\n",
        "\n",
        "# Main program\n",
        "name = input(\"Enter your name: \")\n",
        "physics = float(input(\"Enter your Physics marks: \"))\n",
        "chemistry = float(input(\"Enter your Chemistry marks: \"))\n",
        "maths = float(input(\"Enter your Mathematics marks: \"))\n",
        "\n",
        "\n",
        "# Calculate the average using the function\n",
        "average = calculate_average(physics, chemistry, maths)\n",
        "\n",
        "# Display the result\n",
        "print(f\"\\n{name}, your average marks are: {average:.2f}\")"
      ],
      "metadata": {
        "id": "vI2X6mSSUGFI"
      },
      "execution_count": null,
      "outputs": []
    },
    {
      "cell_type": "code",
      "source": [
        "# Function to calculate the average marks\n",
        "def calculate_average(physics, chemistry, maths):\n",
        "    \"\"\"Calculate the average of the three subjects.\"\"\"\n",
        "    return (physics + chemistry + maths) / 3\n",
        "\n",
        "# Main program\n",
        "name = input(\"Enter your name: \")\n",
        "physics = float(input(\"Enter your Physics marks: \"))\n",
        "chemistry = float(input(\"Enter your Chemistry marks: \"))\n",
        "maths = float(input(\"Enter your Mathematics marks: \"))\n",
        "\n",
        "# Calculate the average using the function\n",
        "average = calculate_average(physics, chemistry, maths)\n",
        "\n",
        "# Prepare the report card content\n",
        "report_card_content = f\"\"\"\n",
        "Report Card\n",
        "------------\n",
        "Name: {name}\n",
        "Physics Marks: {physics}\n",
        "Chemistry Marks: {chemistry}\n",
        "Mathematics Marks: {maths}\n",
        "Average Marks: {average:.2f}\n",
        "\"\"\"\n",
        "\n",
        "# Generate a file name based on the student's name\n",
        "file_name = f\"{name}_report_card.txt\"\n",
        "\n",
        "# Write the report card to the file\n",
        "with open(file_name, \"w\") as file:\n",
        "    file.write(report_card_content)\n",
        "\n",
        "# Inform the user that the report card has been generated\n",
        "print(f\"\\n{name}, your report card has been generated as {file_name}.\")8"
      ],
      "metadata": {
        "colab": {
          "base_uri": "https://localhost:8080/"
        },
        "id": "icoKlXasfBXO",
        "outputId": "d2cfa3c8-130d-4ec9-baac-e0fab5e50d64"
      },
      "execution_count": null,
      "outputs": [
        {
          "output_type": "stream",
          "name": "stdout",
          "text": [
            "Enter your name: anu\n",
            "Enter your Physics marks: 89\n",
            "Enter your Chemistry marks: 90\n",
            "Enter your Mathematics marks: 90\n",
            "\n",
            "anu, your report card has been generated as anu_report_card.txt.\n"
          ]
        }
      ]
    },
    {
      "cell_type": "markdown",
      "source": [
        "# **Higher-order function**\n",
        "\n",
        "A higher-order function is a function that meets one or both of the following criteria:\n",
        "\n",
        "1. It takes one or more functions as arguments.\n",
        "2. It returns a function as its result.\n",
        "\n",
        "Higher-order functions are widely used in functional programming and can make code more flexible and reusable. Many programming languages, like Python, JavaScript, and Haskell, have built-in support for higher-order functions."
      ],
      "metadata": {
        "id": "7iGfeEvLToaU"
      }
    },
    {
      "cell_type": "code",
      "source": [
        "def add(a, b):\n",
        "    return a + b\n",
        "\n",
        "result = add(5,4)\n",
        "print (result)\n",
        "print(add)\n",
        "sum = add\n",
        "print(sum)\n",
        "print(sum(5,5))"
      ],
      "metadata": {
        "colab": {
          "base_uri": "https://localhost:8080/"
        },
        "id": "Bpd59Rw1TvFU",
        "outputId": "e70167ee-fe0f-48c5-b71f-9773e467b8ea"
      },
      "execution_count": null,
      "outputs": [
        {
          "output_type": "stream",
          "name": "stdout",
          "text": [
            "9\n",
            "<function add at 0x7d9f5c237e20>\n",
            "<function add at 0x7d9f5c237e20>\n",
            "10\n"
          ]
        }
      ]
    },
    {
      "cell_type": "markdown",
      "source": [
        "1. **It takes one or more functions as arguments.**"
      ],
      "metadata": {
        "id": "S_P1gPeRcdR8"
      }
    },
    {
      "cell_type": "code",
      "source": [
        "def apply_operation(a, b, operation):\n",
        "    return operation(a, b)  #operation refers to a function that takes two arguments and performs a specific calculation or action\n",
        "\n",
        "def add(x, y):\n",
        "    return x + y\n",
        "\n",
        "def multiply(x, y):\n",
        "    return x * y\n",
        "\n",
        "print(apply_operation(3, 5 , add))       # Output: 8\n",
        "print(apply_operation(3, 5, multiply))  # Output: 15"
      ],
      "metadata": {
        "id": "F7OtGNzVU0U_",
        "colab": {
          "base_uri": "https://localhost:8080/"
        },
        "outputId": "3ab36de8-f5a1-4db4-d8eb-accc301f881e"
      },
      "execution_count": null,
      "outputs": [
        {
          "output_type": "stream",
          "name": "stdout",
          "text": [
            "8\n",
            "15\n"
          ]
        }
      ]
    },
    {
      "cell_type": "markdown",
      "source": [
        "Higher-Order Function: apply_operation\n",
        "\n",
        "Regular Functions: add, multiply"
      ],
      "metadata": {
        "id": "6Snm_VaknTH6"
      }
    },
    {
      "cell_type": "markdown",
      "source": [
        "**2. It returns a function as its result.**"
      ],
      "metadata": {
        "id": "GXcBu_YicjKb"
      }
    },
    {
      "cell_type": "code",
      "source": [
        "def create_adder(x):\n",
        "    def adder(y):\n",
        "        return x + y\n",
        "\n",
        "    return adder\n",
        "\n",
        "add_15 = create_adder(15)  # x = 15\n",
        "print(add_15(10))        # y = 10 and return x+y to add_10\n",
        "\n",
        "          # Output: 25\n"
      ],
      "metadata": {
        "colab": {
          "base_uri": "https://localhost:8080/"
        },
        "id": "SwWjhxYQcrg3",
        "outputId": "af2973c8-fc0a-4c75-a629-4d6e75454b07"
      },
      "execution_count": null,
      "outputs": [
        {
          "output_type": "stream",
          "name": "stdout",
          "text": [
            "25\n"
          ]
        }
      ]
    },
    {
      "cell_type": "markdown",
      "source": [
        "Higher-Order Function: create_adder(x)\n",
        "\n",
        "Regular Function: adder(y) (the function returned by create_adder).\n",
        "\n",
        "\n",
        "#create_adder(15):\n",
        "\n",
        "When you call create_adder(15), it creates and returns the adder(y) function.\n",
        "\n",
        "The adder function remembers the value of x (which is 15 in this case), as x is part of the closure.\n",
        "\n",
        "So, when add_15 = create_adder(15) is executed, add_15 becomes the adder(y) function where x = 15 is fixed (due to the closure).\n",
        "\n",
        "\n",
        "#add_15(10):\n",
        "\n",
        "Now, add_15 is the function adder(y) with x = 15 already set.\n",
        "\n",
        "When add_15(10) is called, it passes y = 10 to adder(y).\n",
        "\n",
        "The adder function computes x + y, which is 15 + 10 = 25."
      ],
      "metadata": {
        "id": "CLkl0VGVm41y"
      }
    },
    {
      "cell_type": "markdown",
      "source": [
        "# Functions as Abstraction Mechanisms\n",
        "\n",
        "Functions can serve as powerful abstraction mechanisms in programming. Abstraction in programming is the concept of hiding complex details and exposing only the essential parts of a system. Functions help achieve abstraction by allowing you to:\n",
        "\n",
        "\n",
        "1. Hide Implementation Details:\n",
        "\n",
        "    You can encapsulate complex logic inside a function, so the user does not need to understand how the logic works; they only need to know what the function does.\n",
        "\n",
        "2. Create Reusable Components:\n",
        "\n",
        "    Functions allow you to write code once and reuse it whenever needed, which reduces redundancy and enhances maintainability.\n",
        "\n",
        "3. Modularize Code:\n",
        "\n",
        "    By breaking down a program into smaller, self-contained functions, you can make the code more organized, readable, and easier to maintain.\n",
        "\n",
        "4. Improve Code Readability and Maintainability:\n",
        "\n",
        "    Well-named functions can act as a form of self-documentation, making it clear what each part of the code does without needing to dig into the details."
      ],
      "metadata": {
        "id": "zpjNgqOCuo3F"
      }
    },
    {
      "cell_type": "markdown",
      "source": [
        "\n",
        "# Problem Solving with Top-Down Design in Python\n",
        "\n",
        "Top-down design (also known as stepwise refinement) is a problem-solving approach where you begin by breaking down a complex problem into smaller, more manageable sub-problems. These sub-problems are then further divided until they become simple enough to be solved directly.\n",
        "\n",
        "In the context of programming, top-down design involves:\n",
        "\n",
        "\n",
        "1. Starting with the high-level problem or task.\n",
        "\n",
        "2. Dividing the task into smaller functions.\n",
        "\n",
        "3. Writing code for each function progressively."
      ],
      "metadata": {
        "id": "wus8Pv6wwpSi"
      }
    },
    {
      "cell_type": "markdown",
      "source": [
        "Let's look at a slightly more complex example using top-down design: Calculating the total cost of a shopping cart including tax and applying a discount.\n",
        "\n",
        "**Problem:**\n",
        "\n",
        "We want to compute the total cost of items in a shopping cart.\n",
        "We need to:\n",
        "\n",
        "1.Calculate the total price of all items.\n",
        "\n",
        "2.Apply a discount.\n",
        "\n",
        "3.Calculate tax on the discounted price.\n",
        "\n",
        "4.Return the final amount after applying the discount and tax."
      ],
      "metadata": {
        "id": "yixAMojlxxKX"
      }
    },
    {
      "cell_type": "markdown",
      "source": [
        "Top-Down Design:\n",
        "\n",
        "High-level problem: Calculate the final total cost of items in the cart.\n",
        "\n",
        "Sub-problems:\n",
        "\n",
        "Calculate total price: Sum all item prices.\n",
        "\n",
        "*   Calculate total price:\n",
        "      \n",
        "        Sum all item prices.\n",
        "\n",
        "*   Apply discount:\n",
        "      \n",
        "        Subtract a discount percentage from the total price.\n",
        "\n",
        "*   Calculate tax:\n",
        "      \n",
        "         Compute the tax based on the discounted price.\n",
        "\n",
        "*   Return the final amount:\n",
        "      \n",
        "          Add the tax to the discounted price.\n"
      ],
      "metadata": {
        "id": "6bN38YXayFxm"
      }
    },
    {
      "cell_type": "markdown",
      "source": [],
      "metadata": {
        "id": "NFM2osWL_Dvi"
      }
    },
    {
      "cell_type": "code",
      "source": [
        "# Step 1: Function to calculate the total price of items\n",
        "def calculate_total(prices):\n",
        "    return sum(prices)  # Sum up all the item prices in the list\n",
        "\n",
        "# Step 2: Function to apply a discount to the total price\n",
        "def apply_discount(total_price, discount_rate):\n",
        "    return total_price * (1 - discount_rate)  # Subtract the discount rate from total price\n",
        "\n",
        "# Step 3: Function to calculate tax on the discounted price\n",
        "def calculate_tax(discounted_price, tax_rate):\n",
        "    return discounted_price * tax_rate  # Calculate the tax based on the discounted price\n",
        "\n",
        "# Step 4: Main function to compute the final amount\n",
        "def calculate_final_amount(prices, discount_rate, tax_rate):\n",
        "    total_price = calculate_total(prices)  # Step 1: Get total price\n",
        "    discounted_price = apply_discount(total_price, discount_rate)  # Step 2: Apply discount\n",
        "    tax = calculate_tax(discounted_price, tax_rate)  # Step 3: Calculate tax\n",
        "    final_amount = discounted_price + tax  # Step 4: Add tax to discounted price\n",
        "    return final_amount\n",
        "\n",
        "# Example usage\n",
        "prices = [100, 200, 300]  # Prices of items in the cart\n",
        "discount_rate = 0.1  # 10% discount\n",
        "tax_rate = 0.05  # 5% tax rate\n",
        "\n",
        "final_amount = calculate_final_amount(prices, discount_rate, tax_rate)\n",
        "print(f\"The final amount after discount and tax is: {final_amount}\")\n",
        "\n"
      ],
      "metadata": {
        "id": "qdmCj8aP_EaI"
      },
      "execution_count": null,
      "outputs": []
    },
    {
      "cell_type": "markdown",
      "source": [
        "# Top-Down Design:\n",
        "\n",
        "\n",
        "1. calculate_total(prices):\n",
        "\n",
        "    This function takes a list of item prices and returns the sum of the prices.\n",
        "\n",
        "2. apply_discount(total_price, discount_rate):\n",
        "\n",
        "    This function applies a discount on the total price. It returns the price after applying the discount.\n",
        "\n",
        "3. calculate_tax(discounted_price, tax_rate):\n",
        "\n",
        "    This function calculates the tax on the discounted price. It multiplies the discounted price by the tax rate to return the tax amount.\n",
        "\n",
        "4. calculate_final_amount(prices, discount_rate, tax_rate):\n",
        "\n",
        "    This is the main function that coordinates the overall process. It first calls calculate_total() to calculate the total price of the items. Then, it applies the discount using apply_discount(). Finally, it computes the tax using calculate_tax() and returns the final amount to be paid by the customer."
      ],
      "metadata": {
        "id": "navgkEbJA6lw"
      }
    },
    {
      "cell_type": "markdown",
      "source": [
        "#**Design with recursive functions**\n",
        "\n",
        "Recursive Functions Design\n",
        "\n",
        "A recursive function is a function that calls itself in order to solve a problem. Recursive functions are useful when a problem can be broken down into smaller, similar subproblems. The key components of a recursive function are:\n",
        "\n",
        "1. Base Case: The condition under which the function stops calling itself and begins returning values.\n",
        "2. Recursive Case: The part where the function calls itself to solve smaller instances of the problem."
      ],
      "metadata": {
        "id": "i25wibNdBr4R"
      }
    },
    {
      "cell_type": "code",
      "source": [
        "def print_numbers(n):\n",
        "    \"\"\"Print numbers from n to 1 using recursion.\"\"\"\n",
        "    if n > 0:  # Base case\n",
        "        print(n)            # Print statement before recursion\n",
        "        print_numbers(n - 1)  # Recursive call\n",
        "\n",
        "# Test the function\n",
        "print_numbers(5)"
      ],
      "metadata": {
        "id": "MfLdfN_qB4_Z",
        "outputId": "5a8dd760-33d5-4a7d-d72c-1f10ef7e601e",
        "colab": {
          "base_uri": "https://localhost:8080/"
        }
      },
      "execution_count": null,
      "outputs": [
        {
          "output_type": "stream",
          "name": "stdout",
          "text": [
            "5\n",
            "4\n",
            "3\n",
            "2\n",
            "1\n"
          ]
        }
      ]
    },
    {
      "cell_type": "markdown",
      "source": [
        "#Managing a Program's Namespace in Python\n",
        "\n",
        "\n",
        "In Python, namespaces refer to the container in which names (identifiers) are mapped to objects. These namespaces ensure that the same name can be used in different parts of a program without causing conflicts. In essence, a namespace allows you to manage how variables, functions, and objects are named and accessed throughout the program.\n",
        "\n",
        "\n",
        "Python manages namespaces at different levels, such as global, local, enclosing, and built-in.\n",
        "\n",
        "1. Global Namespace: Variables or functions declared outside any function or class.\n",
        "2. Local Namespace: Variables declared inside a function.\n",
        "3. Enclosing Namespace: Variables in the enclosing (outer) function.\n",
        "4. Built-in Namespace: Python's built-in functions and exceptions."
      ],
      "metadata": {
        "id": "8vSyGPLcDIHf"
      }
    },
    {
      "cell_type": "code",
      "source": [],
      "metadata": {
        "colab": {
          "base_uri": "https://localhost:8080/"
        },
        "id": "DfEYYvpSEfIO",
        "outputId": "375748bd-afd8-47c2-d8cb-0ac0ec8568d2"
      },
      "execution_count": null,
      "outputs": [
        {
          "output_type": "stream",
          "name": "stdout",
          "text": [
            "10 5\n"
          ]
        }
      ]
    },
    {
      "cell_type": "code",
      "source": [
        "#Global and Local Namespaces\n",
        "\n",
        "  x = 10  # Global variable\n",
        "\n",
        "def func():\n",
        "    y = 5  # Local variable\n",
        "    print(x, y)\n",
        "\n",
        "func()  # Output: 10 5\n"
      ],
      "metadata": {
        "id": "B23EfpU1DjHm",
        "outputId": "76f25ed8-66a0-41ec-b467-5da24b96202d",
        "colab": {
          "base_uri": "https://localhost:8080/"
        }
      },
      "execution_count": null,
      "outputs": [
        {
          "output_type": "stream",
          "name": "stdout",
          "text": [
            "10 5\n"
          ]
        }
      ]
    },
    {
      "cell_type": "markdown",
      "source": [
        "In this example, there are two variables:\n",
        "\n",
        "1. Global variable x: Declared outside the function, it can be accessed from anywhere in the script.\n",
        "\n",
        "2. Local variable y: Declared inside the function func(), it can only be accessed within that function.\n",
        "\n",
        "When func() is called, the program prints the values of both x (the global variable) and y (the local variable):\n",
        "\n",
        "    x is globally defined as 10.\n",
        "\n",
        "    y is locally defined as 5 within the function."
      ],
      "metadata": {
        "id": "EigwvF4eFepT"
      }
    },
    {
      "cell_type": "code",
      "source": [
        "# Global and Local Namespaces\n",
        "\n",
        "x = 10  # Global variable\n",
        "\n",
        "def func1():\n",
        "  x = 20  # This `x` is local to `func1()`\n",
        "\n",
        "def func():\n",
        "    y = 5  # Local variable inside func\n",
        "    print(x, y)  # Prints the global `x` and local `y`\n",
        "\n",
        "func()  # Output: 10 5\n"
      ],
      "metadata": {
        "colab": {
          "base_uri": "https://localhost:8080/"
        },
        "id": "XRF8sK8IFGi8",
        "outputId": "b2486756-532e-4570-b0b2-57c2d30e7be2"
      },
      "execution_count": null,
      "outputs": [
        {
          "output_type": "stream",
          "name": "stdout",
          "text": [
            "10 5\n"
          ]
        }
      ]
    },
    {
      "cell_type": "markdown",
      "source": [
        "#Enclosing Namespace\n",
        "\n",
        "In Python, an enclosing namespace refers to the scope of an outer function that contains inner (nested) functions.\n",
        "\n",
        "These inner functions can access variables defined in the outer function’s scope, even if those variables are not passed explicitly.\n",
        "\n",
        "This behavior is a result of **lexical scoping,**"
      ],
      "metadata": {
        "id": "LV4gJBDPD4aX"
      }
    },
    {
      "cell_type": "code",
      "source": [
        "def outer():\n",
        "    x = 20  # Enclosing variable\n",
        "    def inner():\n",
        "        print(x)  # Access enclosing variable `x`\n",
        "    inner()\n",
        "\n",
        "outer()# Output: 20\n",
        "#inner()  #name 'inner' is not defined because the function inner() is defined within the scope of the function outer()\n"
      ],
      "metadata": {
        "colab": {
          "base_uri": "https://localhost:8080/"
        },
        "id": "u_XbY1LVGbfl",
        "outputId": "2c572813-ed94-42f6-972d-4351e5108f1e"
      },
      "execution_count": null,
      "outputs": [
        {
          "output_type": "stream",
          "name": "stdout",
          "text": [
            "20\n"
          ]
        }
      ]
    },
    {
      "cell_type": "markdown",
      "source": [
        "# **Built-in namespace**\n",
        "\n",
        "In Python, the built-in namespace refers to the collection of objects (functions, classes, exceptions, etc.) that are always available for use in Python programs. These objects are part of the Python Standard Library and do not require any explicit import to be used. They are accessible throughout the entire program.\n",
        "\n",
        "\n",
        "**Components of the Built-in Namespace:**\n",
        "\n",
        "Built-in Functions: Python provides a wide range of functions that can be used directly.\n",
        "\n",
        "Some of these functions are:\n",
        "\n",
        "1. print() — Outputs text to the console.\n",
        "\n",
        "2. len() — Returns the length of an object (e.g., list, string).\n",
        "\n",
        "3. type() — Returns the type of an object.\n",
        "\n",
        "4. max() — Returns the largest item from an iterable or among two or more arguments.\n",
        "\n",
        "5. min() — Returns the smallest item from an iterable or among two or more arguments.\n",
        "\n",
        "6. range() — Generates a sequence of numbers.\n",
        "\n",
        "**Exceptions:**\n",
        "\n",
        "Python includes a set of built-in exceptions to handle various\n",
        "error conditions.\n",
        "For example:\n",
        "\n",
        "1. IndexError — Raised when trying to access an index that is out of range.\n",
        "\n",
        "2. TypeError — Raised when an operation or function is applied to an object of inappropriate type.\n",
        "3. ValueError — Raised when a function receives an argument of the correct type but inappropriate value.\n",
        "4. KeyError — Raised when a dictionary key is not found.\n",
        "\n",
        "\n",
        "\n",
        "**Built-in Constants:**\n",
        "\n",
        "Python includes some constants as part of the built-in namespace:\n",
        "\n",
        "1. True — Boolean value representing truth.\n",
        "\n",
        "2. False — Boolean value representing falsity.\n",
        "\n",
        "3. None — Represents the absence of a value or a null value.\n",
        "\n",
        "\n",
        "**Built-in Classes:**\n",
        "\n",
        "Some built-in classes are always available in Python, such as:\n",
        "\n",
        "1. int — The integer class.\n",
        "2. str — The string class.\n",
        "3. list — The list class.\n",
        "4. dict — The dictionary class.\n",
        "5. tuple — The tuple class."
      ],
      "metadata": {
        "id": "L_s0Pi6DM3__"
      }
    },
    {
      "cell_type": "markdown",
      "source": [
        "# Lists - Basic list Operations and functions"
      ],
      "metadata": {
        "id": "W3uCW2HsOmw0"
      }
    },
    {
      "cell_type": "markdown",
      "source": [
        "In Python, lists are one of the most commonly used data types.\n",
        "\n",
        "They are ordered collections of items, which can be of any data type (e.g., integers, strings, other lists, etc.).\n",
        "\n",
        "Lists are mutable, meaning that their elements can be changed after the list is created.\n",
        "\n",
        "1. Characteristics of a List\n",
        "\n",
        "✅ Ordered → The elements maintain the order in which they were inserted.\n",
        "\n",
        "✅ Mutable → Lists can be modified (add, remove, or change elements).\n",
        "\n",
        "✅ Heterogeneous → Can store elements of different data types (integers, strings, floats, objects, etc.).\n",
        "\n",
        "✅ Allows Duplicates → Multiple occurrences of the same element are allowed.\n",
        "\n",
        "✅ Supports Indexing & Slicing → You can access elements using an index and extract sublists.\n",
        "\n"
      ],
      "metadata": {
        "id": "J4k52OrpOpK9"
      }
    },
    {
      "cell_type": "markdown",
      "source": [
        "**Creating Lists**\n",
        "\n",
        "A list can be created by placing items inside square brackets [ ], separated by commas."
      ],
      "metadata": {
        "id": "d7FHhyE-O5WD"
      }
    },
    {
      "cell_type": "code",
      "source": [
        "# Creating a list\n",
        "my_list = [1, 2, 3, 4, 5]\n",
        "\n",
        "print (my_list)\n",
        "\n"
      ],
      "metadata": {
        "id": "V2pN7Lo8PB--",
        "colab": {
          "base_uri": "https://localhost:8080/"
        },
        "outputId": "c8fc2118-69be-4630-f2af-dab9596d8160"
      },
      "execution_count": null,
      "outputs": [
        {
          "output_type": "stream",
          "name": "stdout",
          "text": [
            "[1, 2, 3, 4, 5]\n"
          ]
        }
      ]
    },
    {
      "cell_type": "markdown",
      "source": [
        "**Basic List Operations and Functions**\n",
        "\n",
        "Here are some basic operations and functions that can be used with lists:\n",
        "\n",
        "**1. Accessing List Elements**\n",
        "\n",
        "    You can access list elements using indexing. The index starts from 0 for the first element."
      ],
      "metadata": {
        "id": "hvug33NrPIC_"
      }
    },
    {
      "cell_type": "code",
      "source": [
        "my_list = [1, 2, 3, 4, 5]\n",
        "\n",
        "# Print the entire list\n",
        "print(my_list)  # Output: [1, 2, 3, 4, 5]\n",
        "\n",
        "# Access the first element (index 0)\n",
        "print(my_list[0])  # Output: 1\n",
        "\n",
        "# Access the fourth element (index 3)\n",
        "print(my_list[3])  # Output: 4\n",
        "\n",
        "# Access the last element (using negative indexing)\n",
        "print(my_list[-1])  # Output: 5\n",
        "\n",
        "# Print the entire list\n",
        "print(my_list)  # Output: [1, 2, 3, 4, 5]\n"
      ],
      "metadata": {
        "colab": {
          "base_uri": "https://localhost:8080/"
        },
        "id": "-YwwOaZ7PR1z",
        "outputId": "433b2be2-fd34-4e8d-cea9-aaa887c985fc"
      },
      "execution_count": null,
      "outputs": [
        {
          "output_type": "stream",
          "name": "stdout",
          "text": [
            "[1, 2, 3, 4, 5]\n",
            "1\n",
            "4\n",
            "5\n",
            "[1, 2, 3, 4, 5]\n"
          ]
        }
      ]
    },
    {
      "cell_type": "markdown",
      "source": [
        "**2. Slicing a List**\n",
        "\n",
        "You can slice lists to get a sublist (a portion of the list)."
      ],
      "metadata": {
        "id": "aRPf0M-cP1pE"
      }
    },
    {
      "cell_type": "code",
      "source": [
        "my_list = [1, 2, 3, 4, 5]\n",
        "\n",
        "print(my_list[1:4])   # Slice from index 1 to 3 (Output: [2, 3, 4])\n",
        "                      # 👉 Rule: list[start:end] extracts elements from start to end-1 (not including end).\n",
        "                      # 👉 my_list[1:4] means :Start at index 1 → 2 ,Stop before index 4 →\n",
        "                      # 👉 So it includes 2, 3, 4, but not 5\n",
        "print(my_list[:3])    # Slice from the beginning to index 2 (Output: [1, 2, 3])\n",
        "print(my_list[2:])    # Slice from index 2 to the end (Output: [3, 4, 5])\n"
      ],
      "metadata": {
        "id": "OZJDaUGdP8vL",
        "outputId": "97dc976b-cc1e-4ed7-ed0e-906f1a72a937",
        "colab": {
          "base_uri": "https://localhost:8080/"
        }
      },
      "execution_count": null,
      "outputs": [
        {
          "output_type": "stream",
          "name": "stdout",
          "text": [
            "[2, 3, 4]\n",
            "[1, 2, 3]\n",
            "[3, 4, 5]\n"
          ]
        }
      ]
    },
    {
      "cell_type": "markdown",
      "source": [
        "**3. Modifying List Elements**\n",
        "\n",
        "Lists are mutable, meaning you can change their elements by accessing them using indexing."
      ],
      "metadata": {
        "id": "R3dlnPc0Q6cP"
      }
    },
    {
      "cell_type": "code",
      "source": [
        "my_list = [1, 2, 3, 4, 5]\n",
        "\n",
        "my_list[2] = 10  # Change the third element\n",
        "print(my_list)   # Output: [1, 2, 10, 4, 5]\n"
      ],
      "metadata": {
        "colab": {
          "base_uri": "https://localhost:8080/"
        },
        "id": "MFgGhDKFRBlM",
        "outputId": "30e37087-0d66-41ea-c5d5-a12ed67668e4"
      },
      "execution_count": null,
      "outputs": [
        {
          "output_type": "stream",
          "name": "stdout",
          "text": [
            "[1, 2, 10, 4, 5]\n"
          ]
        }
      ]
    },
    {
      "cell_type": "markdown",
      "source": [
        "**4. Adding Elements to a List**\n",
        "\n",
        "You can add elements to a list using methods like append(), insert(), or extend().\n",
        "\n",
        "    append(): Adds an element to the end of the list.\n",
        "\n",
        "    insert(): Inserts an element at a specific position.\n",
        "\n",
        "    extend(): Adds all elements from another iterable (list, tuple, etc.) to the list.\n",
        "\n"
      ],
      "metadata": {
        "id": "nAJ4C6U3RJkQ"
      }
    },
    {
      "cell_type": "code",
      "source": [
        "my_list = [1, 2, 3]\n",
        "\n",
        "# append() adds an element to the end\n",
        "my_list.append(4)\n",
        "print(my_list)  # Output: [1, 2, 3, 4]\n",
        "\n",
        "# insert() adds an element at a specific position (index 1)\n",
        "my_list.insert(1, 10)\n",
        "print(my_list)  # Output: [1, 10, 2, 3, 4]\n",
        "\n"
      ],
      "metadata": {
        "colab": {
          "base_uri": "https://localhost:8080/"
        },
        "id": "qAfp2HFXRUQ7",
        "outputId": "1b12df33-8795-495e-ae86-c013c96d8336"
      },
      "execution_count": null,
      "outputs": [
        {
          "output_type": "stream",
          "name": "stdout",
          "text": [
            "[1, 2, 3, 4]\n",
            "[1, 10, 2, 3, 4]\n"
          ]
        }
      ]
    },
    {
      "cell_type": "code",
      "source": [
        "# extend() adds multiple elements from another iterable\n",
        "my_list = [1, 2, 3]\n",
        "my_list2 = [4, 5, 6]\n",
        "my_list.extend(my_list2)\n",
        "print(my_list)  # Output: [1, 2, 3, 4, 5, 6]\n",
        "my_tuple = (4, 5, 6)\n",
        "my_list.extend(my_tuple)\n",
        "print(my_list)"
      ],
      "metadata": {
        "colab": {
          "base_uri": "https://localhost:8080/"
        },
        "id": "43cx4Uc6SKqF",
        "outputId": "eedd0041-4ca8-4ad4-e9f2-fbc84a95dc46"
      },
      "execution_count": null,
      "outputs": [
        {
          "output_type": "stream",
          "name": "stdout",
          "text": [
            "[1, 2, 3, 4, 5, 6]\n",
            "[1, 2, 3, 4, 5, 6, 4, 5, 6]\n"
          ]
        }
      ]
    },
    {
      "cell_type": "markdown",
      "source": [
        "**5. Removing Elements from a List**\n",
        "\n",
        "\n",
        "You can remove elements from a list using remove(), pop(), or del.\n",
        "\n",
        "1. remove(): Removes the first occurrence of a specific value.\n",
        "\n",
        "2. pop(): Removes an element at a specific index (or the last element if no index is given) and returns it.\n",
        "\n",
        "3. del: Deletes an element at a specific index or can be used to delete the entire list."
      ],
      "metadata": {
        "id": "pavr_u_-SosN"
      }
    },
    {
      "cell_type": "code",
      "source": [],
      "metadata": {
        "id": "7_WPZ5-6Lfsd"
      },
      "execution_count": null,
      "outputs": []
    },
    {
      "cell_type": "code",
      "source": [
        "my_list = [1, 2, 3, 4, 5,3]\n",
        "\n",
        "# remove() removes the first occurrence of a specific value\n",
        "my_list.remove(3)\n",
        "print(my_list)  # Output: [1, 2, 4, 5]\n",
        "\n",
        "\n",
        "# pop() removes and returns the element at the specified index (or the last element if no index is provided)\n",
        "removed_element = my_list.pop(1)\n",
        "print(removed_element)  # Output: 2\n",
        "\n",
        "print(my_list)  # Output: [1, 4, 5]\n",
        "\n",
        "# del deletes an element at a specific index\n",
        "del my_list[0]\n",
        "print(my_list)  # Output: [4, 5]\n",
        "\n",
        "# del can also delete the entire list\n",
        "del my_list\n"
      ],
      "metadata": {
        "colab": {
          "base_uri": "https://localhost:8080/"
        },
        "id": "ubSNUT-BTMzf",
        "outputId": "e51b12ad-a17e-416a-8cb1-dde863b276f0"
      },
      "execution_count": null,
      "outputs": [
        {
          "output_type": "stream",
          "name": "stdout",
          "text": [
            "[1, 2, 4, 5, 3]\n",
            "2\n",
            "[1, 4, 5, 3]\n",
            "[4, 5, 3]\n"
          ]
        }
      ]
    },
    {
      "cell_type": "markdown",
      "source": [
        "**6. Finding the Length of a List**\n",
        "\n",
        "    You can find the number of elements in a list using the len() function."
      ],
      "metadata": {
        "id": "sqBvzS6PUhUS"
      }
    },
    {
      "cell_type": "code",
      "source": [
        "my_list = [1, 2, 3, 4, 5]\n",
        "print(len(my_list))  # Output: 5\n"
      ],
      "metadata": {
        "colab": {
          "base_uri": "https://localhost:8080/"
        },
        "id": "IIY6YfkIUhAU",
        "outputId": "60f5f261-9b88-4765-f3ae-2b32835d6826"
      },
      "execution_count": null,
      "outputs": [
        {
          "output_type": "stream",
          "name": "stdout",
          "text": [
            "5\n"
          ]
        }
      ]
    },
    {
      "cell_type": "markdown",
      "source": [
        "**7. Checking if an Element Exists in a List**\n",
        "\n",
        "      You can check if a value exists in the list using the in keyword."
      ],
      "metadata": {
        "id": "xPQrPsBlUs66"
      }
    },
    {
      "cell_type": "code",
      "source": [
        "my_list = [1, 2, 3, 4, 5]\n",
        "print(3 in my_list)  # Output: True\n",
        "print(6 in my_list)  # Output: False\n"
      ],
      "metadata": {
        "colab": {
          "base_uri": "https://localhost:8080/"
        },
        "id": "aRUaHnVEUwHy",
        "outputId": "f8b9ce3b-24b1-4cd7-f704-fd04debf06b4"
      },
      "execution_count": null,
      "outputs": [
        {
          "output_type": "stream",
          "name": "stdout",
          "text": [
            "True\n",
            "False\n"
          ]
        }
      ]
    },
    {
      "cell_type": "markdown",
      "source": [
        "**8. Sorting a List**\n",
        "\n",
        "  You can sort a list in ascending or descending order using the sort() method (which modifies the list in place) or the sorted() function (which returns a new sorted list)."
      ],
      "metadata": {
        "id": "Htq_6SL8U60j"
      }
    },
    {
      "cell_type": "code",
      "source": [
        "my_list = [5, 3, 8, 1, 2]\n",
        "\n",
        "# sort() sorts the list in place (ascending by default)\n",
        "my_list.sort()\n",
        "print(my_list)  # Output: [1, 2, 3, 5, 8]\n",
        "\n",
        "# sorted() returns a new sorted list without modifying the original list\n",
        "new_sorted_list = sorted(my_list, reverse=True)\n",
        "print(new_sorted_list)  # Output: [8, 5, 3, 2, 1]\n",
        "print(my_list)  # Output: [1, 2, 3, 5, 8]\n",
        "\n"
      ],
      "metadata": {
        "colab": {
          "base_uri": "https://localhost:8080/"
        },
        "id": "Z6VXh3W9VEIT",
        "outputId": "855c02e1-1080-43ce-ab4a-a9e2f016eff0"
      },
      "execution_count": null,
      "outputs": [
        {
          "output_type": "stream",
          "name": "stdout",
          "text": [
            "[1, 2, 3, 5, 8]\n",
            "[8, 5, 3, 2, 1]\n",
            "[1, 2, 3, 5, 8]\n"
          ]
        }
      ]
    },
    {
      "cell_type": "markdown",
      "source": [
        "9. Reversing a List\n",
        "\n",
        "\n",
        "You can reverse a list using the reverse() method (which modifies the list in place) or the slicing technique"
      ],
      "metadata": {
        "id": "ZvM5zaTvVrQK"
      }
    },
    {
      "cell_type": "code",
      "source": [
        "my_list = [1, 2, 3, 4, 5]\n",
        "\n",
        "# reverse() reverses the list in place\n",
        "my_list.reverse()\n",
        "print(my_list)  # Output: [5, 4, 3, 2, 1]\n",
        "\n",
        "# Slicing also works to reverse the list\n",
        "reversed_list = my_list[::-1]\n",
        "print(reversed_list)  # Output: [1, 2, 3, 4, 5]\n"
      ],
      "metadata": {
        "id": "H7Updhl6Vvv5",
        "outputId": "6feee25b-6e7c-4953-e323-8653b4c5c327",
        "colab": {
          "base_uri": "https://localhost:8080/"
        }
      },
      "execution_count": null,
      "outputs": [
        {
          "output_type": "stream",
          "name": "stdout",
          "text": [
            "[5, 4, 3, 2, 1]\n",
            "[1, 2, 3, 4, 5]\n"
          ]
        }
      ]
    },
    {
      "cell_type": "markdown",
      "source": [
        "**10. List Comprehension**\n",
        "\n",
        "List comprehension is a concise and efficient way to create and modify lists in Python. It replaces traditional loops with a more readable, one-liner approach.\n",
        "\n",
        "      new_list = [expression for item in iterable if condition]"
      ],
      "metadata": {
        "id": "fveSgwy6gOKK"
      }
    },
    {
      "cell_type": "code",
      "source": [
        "# Define the list with some elements, including duplicates of 3\n",
        "my_list = [1, 2, 3, 4, 5, 3]\n",
        "\n",
        "# Use list comprehension to create a new list that excludes all occurrences of 3\n",
        "my_list = [x for x in my_list if x != 3]\n",
        "\n",
        "# Print the updated list, which no longer contains the number 3\n",
        "print(my_list)  # Output: [1, 2, 4, 5]\n",
        "\n",
        "\n"
      ],
      "metadata": {
        "colab": {
          "base_uri": "https://localhost:8080/"
        },
        "id": "pzs43j5NgMhp",
        "outputId": "8794f657-e2f0-4182-df2c-2a367c9b9ca6"
      },
      "execution_count": null,
      "outputs": [
        {
          "output_type": "stream",
          "name": "stdout",
          "text": [
            "[1, 2, 4, 5]\n"
          ]
        }
      ]
    },
    {
      "cell_type": "code",
      "source": [
        "fruits = [\"apple\", \"banana\", \"cherry\", \"kiwi\", \"mango\"]\n",
        "\n",
        "newlist = [x for x in fruits if \"a\" in x]\n",
        "\n",
        "print(fruits)\n",
        "print(newlist)\n"
      ],
      "metadata": {
        "colab": {
          "base_uri": "https://localhost:8080/"
        },
        "id": "vB089cKZhwgG",
        "outputId": "c87edb17-b0cd-419b-b6be-26c3ff1d8c35"
      },
      "execution_count": null,
      "outputs": [
        {
          "output_type": "stream",
          "name": "stdout",
          "text": [
            "['apple', 'banana', 'cherry', 'kiwi', 'mango']\n",
            "['apple', 'banana', 'mango']\n"
          ]
        }
      ]
    },
    {
      "cell_type": "markdown",
      "source": [
        "**Heterogeneous List**\n",
        "\n",
        "Can store elements of different data types (integers, strings, floats, objects, etc.)."
      ],
      "metadata": {
        "id": "i93vaZfHnyKt"
      }
    },
    {
      "cell_type": "code",
      "source": [
        "# Heterogeneous list with multiple data types\n",
        "heterogeneous_list = [\n",
        "    42,                      # Integer\n",
        "    3.14,                    # Float\n",
        "    \"Python\",                # String\n",
        "    True,                    # Boolean\n",
        "    [1, 2, 3],               # List\n",
        "    (4, 5, 6),               # Tuple\n",
        "    {\"name\": \"Alice\"},       # Dictionary\n",
        "    lambda x: x**2           # Function (Lambda)\n",
        "]\n",
        "#Accessing the elemets inside the list\n",
        "print (heterogeneous_list)\n",
        "print(heterogeneous_list[0])\n",
        "print(heterogeneous_list[1])\n",
        "print(heterogeneous_list[2])\n",
        "print(heterogeneous_list[3])\n",
        "print(heterogeneous_list[4])\n",
        "print(heterogeneous_list[5])\n",
        "print(heterogeneous_list[6])\n",
        "print(heterogeneous_list[7])\n",
        "\n",
        "\n",
        "# Accessing the function inside the list (Index 7)\n",
        "square_function = heterogeneous_list[7]  # Extracting function\n",
        "\n",
        "# Calling the function with an argument\n",
        "result = square_function(5)  # 5**2 = 25\n",
        "\n",
        "print(result)  # Output: 25\n"
      ],
      "metadata": {
        "colab": {
          "base_uri": "https://localhost:8080/"
        },
        "id": "9upWUKDRZygy",
        "outputId": "defd7f16-638b-40cf-869c-b2267f84a02c"
      },
      "execution_count": null,
      "outputs": [
        {
          "output_type": "stream",
          "name": "stdout",
          "text": [
            "[42, 3.14, 'Python', True, [1, 2, 3], (4, 5, 6), {'name': 'Alice'}, <function <lambda> at 0x7efcf47bf060>]\n",
            "42\n",
            "3.14\n",
            "Python\n",
            "True\n",
            "[1, 2, 3]\n",
            "(4, 5, 6)\n",
            "{'name': 'Alice'}\n",
            "<function <lambda> at 0x7efcf47bf060>\n",
            "25\n",
            "[42, 3.14, 'Python', True, [1, 2, 3], (4, 5, 6), {'name': 'Alice'}, <function <lambda> at 0x7efcf47bf060>]\n"
          ]
        }
      ]
    },
    {
      "cell_type": "markdown",
      "source": [
        "**Tuples:**\n",
        "\n",
        "Tuples in Python are immutable, meaning you cannot modify them directly like lists.\n",
        "\n",
        "👉A tuple is an ordered, immutable collection of elements.\n",
        "\n",
        "👉Defined using parentheses () or the tuple() constructor.\n"
      ],
      "metadata": {
        "id": "jlb0VhegaL-1"
      }
    },
    {
      "cell_type": "code",
      "source": [
        "my_tuple = (1, 2, 3,4)\n",
        "print(my_tuple)"
      ],
      "metadata": {
        "colab": {
          "base_uri": "https://localhost:8080/"
        },
        "id": "ESurNGckvrob",
        "outputId": "d7e188e0-34c1-4178-e93c-d94768e118bf"
      },
      "execution_count": null,
      "outputs": [
        {
          "output_type": "stream",
          "name": "stdout",
          "text": [
            "(1, 2, 3, 4)\n"
          ]
        }
      ]
    },
    {
      "cell_type": "markdown",
      "source": [
        "Characteristics of Tuples:\n",
        "\n",
        "1. Ordered → Elements have a fixed order and can be accessed using an index.\n",
        "\n",
        "2. Immutable → Cannot be changed (no adding, removing, or modifying elements).\n",
        "\n",
        "3. Allows Duplicates → Can store repeated values.\n",
        "\n",
        "4. Can Contain Multiple Data Types → Supports integers, floats, strings, lists, even other tuples.\n"
      ],
      "metadata": {
        "id": "Pjf2j7bNv1sH"
      }
    },
    {
      "cell_type": "code",
      "source": [
        "mixed_tuple = (1, \"Hello\", 3.14, [5, 6])\n",
        "print(mixed_tuple)"
      ],
      "metadata": {
        "colab": {
          "base_uri": "https://localhost:8080/"
        },
        "id": "JjJUN-IVwGZD",
        "outputId": "3de85fd2-3537-4945-95e7-2028531bd99f"
      },
      "execution_count": null,
      "outputs": [
        {
          "output_type": "stream",
          "name": "stdout",
          "text": [
            "(1, 'Hello', 3.14, [5, 6])\n"
          ]
        }
      ]
    },
    {
      "cell_type": "markdown",
      "source": [
        "**1. Creating Tuples**\n"
      ],
      "metadata": {
        "id": "DURm7E7nwPp_"
      }
    },
    {
      "cell_type": "code",
      "source": [
        "#Single-element tuple (needs a comma!)\n",
        "single_tuple = (5,)  # Without the comma, Python treats it as an integer\n",
        "print(single_tuple)\n",
        "\n",
        "#Tuple without parentheses (Tuple Packing)\n",
        "my_tuple = 1, 2, 3  # Equivalent to (1, 2, 3)\n",
        "print(my_tuple)"
      ],
      "metadata": {
        "colab": {
          "base_uri": "https://localhost:8080/"
        },
        "id": "3nnry5Powg1l",
        "outputId": "326a1915-182b-4a9f-95f7-3332b3562d26"
      },
      "execution_count": null,
      "outputs": [
        {
          "output_type": "stream",
          "name": "stdout",
          "text": [
            "(5,)\n",
            "(1, 2, 3)\n"
          ]
        }
      ]
    },
    {
      "cell_type": "markdown",
      "source": [
        "**2. Accessing Elements in a Tuple**\n",
        "\n"
      ],
      "metadata": {
        "id": "RLVhbv9uxoHT"
      }
    },
    {
      "cell_type": "code",
      "source": [
        "#Indexing\n",
        "my_tuple = (10, 20, 30)\n",
        "print(my_tuple[1])  # Output: 20\n",
        "print(my_tuple[-1])  # Output: 30 (last element)\n",
        "\n",
        "#Slicing\n",
        "print(my_tuple[1:])  # Output: (20, 30)\n",
        "\n",
        "\n"
      ],
      "metadata": {
        "colab": {
          "base_uri": "https://localhost:8080/"
        },
        "id": "_I_lbDIfyFgw",
        "outputId": "e034fbfd-5062-4401-8196-0bf6d7bdcc27"
      },
      "execution_count": null,
      "outputs": [
        {
          "output_type": "stream",
          "name": "stdout",
          "text": [
            "20\n",
            "30\n",
            "(20, 30)\n"
          ]
        }
      ]
    },
    {
      "cell_type": "markdown",
      "source": [
        "**3. Tuple Operations**"
      ],
      "metadata": {
        "id": "M6zo2gi2zQk1"
      }
    },
    {
      "cell_type": "code",
      "source": [
        "#Concatenation (+)\n",
        "t1 = (1, 2)\n",
        "t2 = (3, 4)\n",
        "result = t1 + t2  # Output: (1, 2, 3, 4)\n",
        "print(result)\n",
        "#Repetition (*)\n",
        "t = (1, 2)\n",
        "result = t * 3  # Output: (1, 2, 1, 2, 1, 2)\n",
        "print(result)\n",
        "#Membership Check (in)\n",
        "print(3 in (1, 2, 3))  # Output: True\n",
        "print(4 in (1, 2, 3))  # Output: False\n"
      ],
      "metadata": {
        "colab": {
          "base_uri": "https://localhost:8080/"
        },
        "id": "G-s288S-ysf8",
        "outputId": "fb276898-ac6c-4bc7-f7ad-e1e7b300aacb"
      },
      "execution_count": null,
      "outputs": [
        {
          "output_type": "stream",
          "name": "stdout",
          "text": [
            "(1, 2, 3, 4)\n",
            "(1, 2, 1, 2, 1, 2)\n",
            "True\n",
            "False\n"
          ]
        }
      ]
    },
    {
      "cell_type": "markdown",
      "source": [
        "**4. Modifying a Tuple**\n",
        "\n",
        "Since tuples are immutable, you cannot modify them directly.\n",
        "\n",
        "However, you can convert a tuple to a list, modify it, and convert it back"
      ],
      "metadata": {
        "id": "eaL0H4UFxdD4"
      }
    },
    {
      "cell_type": "code",
      "source": [
        "my_tuple = (1, 2, 3)\n",
        "temp_list = list(my_tuple)  # Convert to list\n",
        "temp_list.append(4)         # Modify list\n",
        "my_tuple = tuple(temp_list) # Convert back to tuple\n",
        "print(my_tuple)  # Output: (1, 2, 3, 4)\n"
      ],
      "metadata": {
        "colab": {
          "base_uri": "https://localhost:8080/"
        },
        "id": "4wzx_jpz3eo2",
        "outputId": "b91afe9b-f05e-4b4a-bcf9-d3e9b9f5e21d"
      },
      "execution_count": null,
      "outputs": [
        {
          "output_type": "stream",
          "name": "stdout",
          "text": [
            "(1, 2, 3, 4)\n"
          ]
        }
      ]
    },
    {
      "cell_type": "markdown",
      "source": [
        "**5. Tuple Methods**\n",
        "\n",
        "count(value) → Returns the number of times a value appears in a tuple.\n"
      ],
      "metadata": {
        "id": "pKD5FQ9x36wr"
      }
    },
    {
      "cell_type": "code",
      "source": [
        "#count(value) → Returns the number of times a value appears in a tuple.\n",
        "my_tuple = (1, 2, 3, 3, 4)\n",
        "print(my_tuple.count(3))  # Output: 2\n",
        "\n",
        "#index(value) → Returns the index of first occurrence of 3 in the tuple\n",
        "print(my_tuple.index(3))  # Output: 2\n"
      ],
      "metadata": {
        "colab": {
          "base_uri": "https://localhost:8080/"
        },
        "id": "0z91ZD8M4YLk",
        "outputId": "35e9a406-a1bd-4b22-dff4-421cc14d6d74"
      },
      "execution_count": null,
      "outputs": [
        {
          "output_type": "stream",
          "name": "stdout",
          "text": [
            "2\n",
            "2\n"
          ]
        }
      ]
    },
    {
      "cell_type": "markdown",
      "source": [
        "# Case Study:\n",
        "\n",
        "**Inventory Management System **\n",
        "\n",
        "Choosing Between Lists and Tuples\n",
        "\n",
        "*Scenario:*\n",
        "\n",
        "A retail store is building an Inventory Management System to track products. Each product has:\n",
        "\n",
        "*   Fixed Attributes (Product ID, Name, Category) → These do not change.\n",
        "*   Variable Attributes (Stock levels, Prices, Discounts) → These can change over time.\n",
        "\n",
        "**Task:**\n",
        "\n",
        "1. Decide the appropriate data structure for storing fixed and variable product details.\n",
        "\n",
        "2. Write a Python program to manage product inventory.\n",
        "\n",
        "3. Explain why your chosen data structures are suitable"
      ],
      "metadata": {
        "id": "poFf7afQC1uH"
      }
    },
    {
      "cell_type": "markdown",
      "source": [
        "**Solution: Using Tuples and Lists**\n",
        "\n",
        "1. Choosing the Right Data Structure\n",
        "Tuple for fixed product details (Product ID, Name, Category) → Immutable data prevents accidental modification.\n",
        "\n",
        "2. List for mutable details (Stock levels, Prices, Discounts) → These values can change over time."
      ],
      "metadata": {
        "id": "KG9Gp8elDfy-"
      }
    },
    {
      "cell_type": "markdown",
      "source": [
        "Expected Output:"
      ],
      "metadata": {
        "id": "5C34mQuLFHu6"
      }
    },
    {
      "cell_type": "markdown",
      "source": [
        "![image.png](data:image/png;base64,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)"
      ],
      "metadata": {
        "id": "2nVeUfh7FDNc"
      }
    },
    {
      "cell_type": "markdown",
      "source": [
        "# Python Sets\n",
        "\n",
        "👉Sets are used to store multiple items in a single variable.\n",
        "\n",
        "\n",
        "👉Set is one of 4 built-in data types in Python used to store collections of data, the other 3 are List, Tuple, and Dictionary, all with different qualities and usage.\n",
        "\n",
        "👉A set is a collection which is unordered, unchangeable*, and unindexed."
      ],
      "metadata": {
        "id": "9OdQx3xeoxkI"
      }
    },
    {
      "cell_type": "code",
      "source": [
        "thisset = {\"apple\", \"banana\", \"cherry\"}\n",
        "print(thisset)"
      ],
      "metadata": {
        "colab": {
          "base_uri": "https://localhost:8080/"
        },
        "id": "sCmyVUfjnsnC",
        "outputId": "b944687e-4cda-4eb9-9c40-762e8d2ba42e"
      },
      "execution_count": null,
      "outputs": [
        {
          "output_type": "stream",
          "name": "stdout",
          "text": [
            "{'cherry', 'banana', 'apple'}\n"
          ]
        }
      ]
    },
    {
      "cell_type": "markdown",
      "source": [
        "**Note: **\n",
        "   \n",
        "*   Set items are **unchangeable**, but you can remove items and add new items.\n",
        "\n",
        "*   Sets are **unordered**, so you cannot be sure in which order the items will appear.\n",
        "*   **Duplicates Not Allowed**,Sets cannot have two items with the same value.\n",
        "\n",
        "*   Tuple is **Heterogeneous**:tuples allow mixed data types\n",
        "*   The values True and 1 are considered the same value in sets, and are treated as duplicates:\n",
        "\n",
        "\n",
        "\n",
        "\n",
        "\n",
        "\n",
        "\n",
        "\n",
        "    "
      ],
      "metadata": {
        "id": "In27nfaVpgpf"
      }
    },
    {
      "cell_type": "code",
      "source": [
        "# Creating a set\n",
        "my_set = {5, 2, 9, 1, 7,7}\n",
        "my_set1 = {5,}\n",
        "# Printing the set\n",
        "print(my_set)  # Output order may vary\n",
        "print(my_set1)"
      ],
      "metadata": {
        "colab": {
          "base_uri": "https://localhost:8080/"
        },
        "id": "qMUcZgbwn18S",
        "outputId": "e081ec9b-e69d-4b73-eef8-54fade232dfe"
      },
      "execution_count": null,
      "outputs": [
        {
          "output_type": "stream",
          "name": "stdout",
          "text": [
            "{1, 2, 5, 7, 9}\n",
            "{5}\n"
          ]
        }
      ]
    },
    {
      "cell_type": "code",
      "source": [
        "#True and 1 is considered the same value:\n",
        "#False and 0 is considered the same value:\n",
        "\n",
        "thisset = {\"apple\", \"banana\", \"cherry\", True, False, 0, 1, 2}\n",
        "\n",
        "print(thisset)"
      ],
      "metadata": {
        "colab": {
          "base_uri": "https://localhost:8080/"
        },
        "id": "1rMQkKbZ79Vt",
        "outputId": "3d5390e3-e281-488c-9a46-268d36ce62e0"
      },
      "execution_count": null,
      "outputs": [
        {
          "output_type": "stream",
          "name": "stdout",
          "text": [
            "{False, True, 2, 'banana', 'apple', 'cherry'}\n"
          ]
        }
      ]
    },
    {
      "cell_type": "markdown",
      "source": [
        "**Get the Length of a Set**\n",
        "\n",
        "To determine how many items a set has, use the len() function\n",
        "\n",
        "**type()**\n",
        "\n",
        "Set items can be of any data type:\n"
      ],
      "metadata": {
        "id": "EF98VS_hn1ka"
      }
    },
    {
      "cell_type": "code",
      "source": [
        "thisset = {\"apple\", \"banana\", \"cherry\"}\n",
        "\n",
        "print(len(thisset))  # size of the set\n",
        "print(type(thisset)) # type as set\n"
      ],
      "metadata": {
        "colab": {
          "base_uri": "https://localhost:8080/"
        },
        "id": "uHcTM1Mh8nSj",
        "outputId": "b8d23116-2c13-420a-b4a2-f10a458a6b42"
      },
      "execution_count": null,
      "outputs": [
        {
          "output_type": "stream",
          "name": "stdout",
          "text": [
            "5\n",
            "<class 'set'>\n"
          ]
        }
      ]
    },
    {
      "cell_type": "markdown",
      "source": [
        "**The set() Constructor**\n",
        "\n",
        "It is also possible to use the **set() constructor to make a set.**"
      ],
      "metadata": {
        "id": "CRiH5AuN-oCb"
      }
    },
    {
      "cell_type": "code",
      "source": [
        "#set() constructor to make a set.\n",
        "thisset = set((\"apple\", \"banana\", \"cherry\")) # note the double round-brackets\n",
        "print(thisset)\n",
        "print(type(thisset))"
      ],
      "metadata": {
        "colab": {
          "base_uri": "https://localhost:8080/"
        },
        "id": "Orz82B23-w22",
        "outputId": "3856522f-21b1-4a54-96a1-646724f8d64b"
      },
      "execution_count": null,
      "outputs": [
        {
          "output_type": "stream",
          "name": "stdout",
          "text": [
            "{'cherry', 'banana', 'apple'}\n",
            "<class 'set'>\n"
          ]
        }
      ]
    },
    {
      "cell_type": "markdown",
      "source": [
        "**Access Items in a set**\n",
        "\n",
        "You cannot access items in a set by referring to an index or a key.\n",
        "\n",
        "But you can loop through the set items using a for loop, or ask if a specified value is present in a set, by using the **in** keyword.\n"
      ],
      "metadata": {
        "id": "bgyZnA-dAw6E"
      }
    },
    {
      "cell_type": "code",
      "source": [
        "thisset = {\"apple\", \"banana\", \"cherry\"}\n",
        "\n",
        "for x in thisset:\n",
        "  print(x)"
      ],
      "metadata": {
        "colab": {
          "base_uri": "https://localhost:8080/"
        },
        "id": "HvUbCK14DlwY",
        "outputId": "06cbac5a-f7f3-4712-89d7-b52471827d94"
      },
      "execution_count": null,
      "outputs": [
        {
          "output_type": "stream",
          "name": "stdout",
          "text": [
            "cherry\n",
            "banana\n",
            "apple\n"
          ]
        }
      ]
    },
    {
      "cell_type": "code",
      "source": [
        "# Checking for Membership (in Keyword)\n",
        "\n",
        "thisset = {\"apple\", \"banana\", \"cherry\"}\n",
        "print(\"banana\" in thisset)\n",
        "print(\"banana\" not in thisset)"
      ],
      "metadata": {
        "colab": {
          "base_uri": "https://localhost:8080/"
        },
        "id": "r67cA44xEcnr",
        "outputId": "599754bc-6ab5-4283-ec3d-87e08e66b7e7"
      },
      "execution_count": null,
      "outputs": [
        {
          "output_type": "stream",
          "name": "stdout",
          "text": [
            "True\n",
            "False\n"
          ]
        }
      ]
    },
    {
      "cell_type": "markdown",
      "source": [
        "**Add Items**\n",
        "\n",
        "Once a set is created, you cannot change its items, but you can add new items."
      ],
      "metadata": {
        "id": "mW2Nt5GHEz0i"
      }
    },
    {
      "cell_type": "code",
      "source": [
        "#Add an item to a set, using the add() method:\n",
        "thisset = {\"apple\", \"banana\", \"cherry\"}\n",
        "thisset.add(\"orange\")\n",
        "print(thisset)"
      ],
      "metadata": {
        "colab": {
          "base_uri": "https://localhost:8080/"
        },
        "id": "Vo8evS0qE5G5",
        "outputId": "e67be1d8-2f05-4051-ecd2-f8478f7f9014"
      },
      "execution_count": null,
      "outputs": [
        {
          "output_type": "stream",
          "name": "stdout",
          "text": [
            "{'cherry', 'orange', 'banana', 'apple'}\n"
          ]
        }
      ]
    },
    {
      "cell_type": "markdown",
      "source": [
        "**Add Sets**\n",
        "\n",
        "To add items from another set into the current set, use the **update()**method."
      ],
      "metadata": {
        "id": "np9nh1yhF1EO"
      }
    },
    {
      "cell_type": "code",
      "source": [
        "#Add elements from tropical into thisset:\n",
        "thisset = {\"apple\", \"banana\", \"cherry\"}\n",
        "tropical = {\"pineapple\", \"mango\", \"papaya\"}\n",
        "\n",
        "thisset.update(tropical)\n",
        "\n",
        "print(thisset)\n"
      ],
      "metadata": {
        "colab": {
          "base_uri": "https://localhost:8080/"
        },
        "id": "ZRTYkesOF6WH",
        "outputId": "892e4971-4e41-4953-d473-648440821416"
      },
      "execution_count": null,
      "outputs": [
        {
          "output_type": "stream",
          "name": "stdout",
          "text": [
            "{'banana', 'apple', 'cherry', 'mango', 'papaya', 'pineapple'}\n"
          ]
        }
      ]
    },
    {
      "cell_type": "markdown",
      "source": [
        "**Remove Item**\n",
        "\n",
        "To remove an item in a set, use the **remove()**, or the **discard()** method."
      ],
      "metadata": {
        "id": "oYaks0gvN6lC"
      }
    },
    {
      "cell_type": "code",
      "source": [
        "#Remove \"banana\" by using the remove() method:\n",
        "thisset = {\"apple\", \"banana\", \"cherry\"}\n",
        "thisset.remove(\"banana\")\n",
        "print(thisset)\n",
        "\n",
        "#Remove \"banana\" by using the discard() method:\n",
        "thisset = {\"apple\", \"banana\", \"cherry\"}\n",
        "thisset.discard(\"cherry\")\n",
        "print(thisset)\n",
        "\n",
        "#Remove a random item by using the pop() method:\n",
        "thisset = {\"apple\", \"banana\", \"cherry\"}\n",
        "x = thisset.pop()\n",
        "print(x)\n"
      ],
      "metadata": {
        "colab": {
          "base_uri": "https://localhost:8080/"
        },
        "id": "OkpE4k7sOG0e",
        "outputId": "939fbd8b-8549-4dbd-b60f-9ffabfb777c4"
      },
      "execution_count": null,
      "outputs": [
        {
          "output_type": "stream",
          "name": "stdout",
          "text": [
            "{'cherry', 'apple'}\n",
            "{'banana', 'apple'}\n",
            "cherry\n"
          ]
        }
      ]
    },
    {
      "cell_type": "code",
      "source": [],
      "metadata": {
        "id": "0-xCfb1ZOItz"
      },
      "execution_count": null,
      "outputs": []
    },
    {
      "cell_type": "markdown",
      "source": [
        "**Join Sets**\n",
        "\n",
        "There are several ways to join two or more sets in Python.\n",
        "\n",
        "The **union()** and **update()** methods joins all items from both sets.\n",
        "\n",
        "The **intersection()**method keeps ONLY the duplicates.\n",
        "\n",
        "The **difference()**method keeps the items from the first set that are not in the other set(s).\n",
        "\n",
        "The **symmetric_difference()** method keeps all items EXCEPT the duplicates."
      ],
      "metadata": {
        "id": "1eOI_B7rRDVV"
      }
    },
    {
      "cell_type": "code",
      "source": [
        "#The union() method returns a new set with all items from both sets\n",
        "\n",
        "set1 = {\"a\", \"b\", \"c\"}\n",
        "set2 = {1, 2, 3}\n",
        "\n",
        "set3 = set1.union(set2)\n",
        "print(set3)"
      ],
      "metadata": {
        "colab": {
          "base_uri": "https://localhost:8080/"
        },
        "id": "z7rXHHPYRUpv",
        "outputId": "10f917fa-7914-4596-d158-a8cab8022575"
      },
      "execution_count": null,
      "outputs": [
        {
          "output_type": "stream",
          "name": "stdout",
          "text": [
            "{'a', 1, 2, 3, 'c', 'b'}\n"
          ]
        }
      ]
    },
    {
      "cell_type": "code",
      "source": [
        "# Use | to join two sets:\n",
        "set1 = {\"a\", \"b\", \"c\"}\n",
        "set2 = {1, 2, 3}\n",
        "\n",
        "set3 = set1 | set2\n",
        "print(set3)"
      ],
      "metadata": {
        "colab": {
          "base_uri": "https://localhost:8080/"
        },
        "id": "LbxGh1NERsB0",
        "outputId": "de7f87d6-7e89-4686-87e6-351589bf3008"
      },
      "execution_count": null,
      "outputs": [
        {
          "output_type": "stream",
          "name": "stdout",
          "text": [
            "{'a', 1, 2, 3, 'c', 'b'}\n"
          ]
        }
      ]
    },
    {
      "cell_type": "code",
      "source": [
        "#Join multiple sets with the union() method:\n",
        "set1 = {\"a\", \"b\", \"c\"}\n",
        "set2 = {1, 2, 3}\n",
        "set3 = {\"John\", \"Elena\"}\n",
        "set4 = {\"apple\", \"bananas\", \"cherry\"}\n",
        "\n",
        "myset = set1.union(set2, set3, set4)\n",
        "print(myset)\n"
      ],
      "metadata": {
        "colab": {
          "base_uri": "https://localhost:8080/"
        },
        "id": "sx7dzoPLR24L",
        "outputId": "c1b41918-4187-411b-fe1e-113b5dfe4e88"
      },
      "execution_count": null,
      "outputs": [
        {
          "output_type": "stream",
          "name": "stdout",
          "text": [
            "{'b', 1, 2, 3, 'John', 'bananas', 'apple', 'c', 'a', 'cherry', 'Elena'}\n"
          ]
        }
      ]
    },
    {
      "cell_type": "code",
      "source": [
        "#Use | to join two sets:\n",
        "set1 = {\"a\", \"b\", \"c\"}\n",
        "set2 = {1, 2, 3}\n",
        "set3 = {\"John\", \"Elena\"}\n",
        "set4 = {\"apple\", \"bananas\", \"cherry\"}\n",
        "\n",
        "myset = set1 | set2 | set3 |set4\n",
        "print(myset)"
      ],
      "metadata": {
        "colab": {
          "base_uri": "https://localhost:8080/"
        },
        "id": "UJ8RHzFrSdVb",
        "outputId": "532acbb4-bd26-4cc4-94a9-b1ddf51169b6"
      },
      "execution_count": null,
      "outputs": [
        {
          "output_type": "stream",
          "name": "stdout",
          "text": [
            "{'b', 1, 2, 3, 'John', 'bananas', 'apple', 'c', 'a', 'cherry', 'Elena'}\n"
          ]
        }
      ]
    },
    {
      "cell_type": "code",
      "source": [
        "#Intersection:Join set1 and set2, but keep only the duplicates:\n",
        "set1 = {\"apple\", \"banana\", \"cherry\"}\n",
        "set2 = {\"google\", \"microsoft\", \"apple\"}\n",
        "\n",
        "set3 = set1.intersection(set2)\n",
        "print(set3)"
      ],
      "metadata": {
        "colab": {
          "base_uri": "https://localhost:8080/"
        },
        "id": "w6il91o_SwWC",
        "outputId": "de705743-18c4-47bc-fba4-403035d08ebb"
      },
      "execution_count": null,
      "outputs": [
        {
          "output_type": "stream",
          "name": "stdout",
          "text": [
            "{'apple'}\n"
          ]
        }
      ]
    },
    {
      "cell_type": "code",
      "source": [
        "#Use & to join two sets:Intersection\n",
        "set1 = {\"apple\", \"banana\", \"cherry\"}\n",
        "set2 = {\"google\", \"microsoft\", \"apple\"}\n",
        "\n",
        "set3 = set1 & set2\n",
        "print(set3)"
      ],
      "metadata": {
        "colab": {
          "base_uri": "https://localhost:8080/"
        },
        "id": "IYnUJ2KlTCon",
        "outputId": "f46bf811-99fa-44eb-c1e8-aa6f73c41ad6"
      },
      "execution_count": null,
      "outputs": [
        {
          "output_type": "stream",
          "name": "stdout",
          "text": [
            "{'apple'}\n"
          ]
        }
      ]
    },
    {
      "cell_type": "code",
      "source": [
        "#difference():Keep all items from set1 that are not in set2:\n",
        "set1 = {\"apple\", \"banana\", \"cherry\"}\n",
        "set2 = {\"google\", \"microsoft\", \"apple\"}\n",
        "\n",
        "set3 = set1.difference(set2)\n",
        "\n",
        "print(set3)"
      ],
      "metadata": {
        "colab": {
          "base_uri": "https://localhost:8080/"
        },
        "id": "cQogOEZ5TI5p",
        "outputId": "89c5dd4b-3e04-4c42-8a1c-b66b292acd91"
      },
      "execution_count": null,
      "outputs": [
        {
          "output_type": "stream",
          "name": "stdout",
          "text": [
            "{'cherry', 'banana'}\n"
          ]
        }
      ]
    },
    {
      "cell_type": "code",
      "source": [
        "#Symmetric Differences:Keep the items that are not present in both sets:\n",
        "set1 = {\"apple\", \"banana\", \"cherry\"}\n",
        "set2 = {\"google\", \"microsoft\", \"apple\"}\n",
        "set3 = set1.symmetric_difference(set2)\n",
        "print(set3)"
      ],
      "metadata": {
        "colab": {
          "base_uri": "https://localhost:8080/"
        },
        "id": "0_SXFcgbTrfX",
        "outputId": "0a27c6a8-8a4a-43fc-e903-a497026efe66"
      },
      "execution_count": null,
      "outputs": [
        {
          "output_type": "stream",
          "name": "stdout",
          "text": [
            "{'banana', 'microsoft', 'cherry', 'google'}\n"
          ]
        }
      ]
    },
    {
      "cell_type": "code",
      "source": [],
      "metadata": {
        "id": "BZ3zUXVVTw0_"
      },
      "execution_count": null,
      "outputs": []
    },
    {
      "cell_type": "markdown",
      "source": [
        "** quiz**\n",
        "\n",
        "\n",
        "[👉] https://www.w3schools.com/python/exercise.asp?x=xrcise_sets1\n",
        "https://www.w3schools.com/python/exercise.asp?x=xrcise_sets1"
      ],
      "metadata": {
        "id": "vpl4JlovUqER"
      }
    },
    {
      "cell_type": "markdown",
      "source": [
        "# **Work with dates and times**\n",
        "\n",
        "\n",
        "In Python, you can work with dates and times using the **datetime** module. The datetime module provides classes for manipulating dates and times, including **date, time, datetime, and timedelta** objects."
      ],
      "metadata": {
        "id": "kurZ4KIoVOO1"
      }
    },
    {
      "cell_type": "code",
      "source": [
        "import datetime\n",
        "#Getting the Current Date and Time\n",
        "now = datetime.datetime.now()\n",
        "print(now)  # Prints the current date and time (e.g., 2025-01-30 12:45:59.237247)\n",
        "\n",
        "#Getting the Current Date: To get only the current date (without time):\n",
        "today = datetime.date.today()\n",
        "print(today)  # Prints the current date (e.g., 2025-01-30)\n"
      ],
      "metadata": {
        "colab": {
          "base_uri": "https://localhost:8080/"
        },
        "id": "JKytK_igVn47",
        "outputId": "cb9762ba-3cab-460d-f227-ff3bbcc5cd77"
      },
      "execution_count": null,
      "outputs": [
        {
          "output_type": "stream",
          "name": "stdout",
          "text": [
            "2025-02-02 17:01:28.288904\n",
            "2025-02-02\n"
          ]
        }
      ]
    },
    {
      "cell_type": "code",
      "source": [
        "#import datetime:You can also create specific date or time objects:\n",
        "\n",
        "import datetime\n",
        "# Creating a specific date\n",
        "my_date = datetime.date(2025, 1, 30)\n",
        "print(my_date)  # Output: 2025-01-30\n",
        "\n",
        "# Creating a specific time\n",
        "my_time = datetime.time(12, 30, 45)\n",
        "print(my_time)  # Output: 12:30:45\n"
      ],
      "metadata": {
        "colab": {
          "base_uri": "https://localhost:8080/"
        },
        "id": "k3YZ8QimWCoS",
        "outputId": "4dc70770-ab46-430a-feb6-7e542e29430b"
      },
      "execution_count": null,
      "outputs": [
        {
          "output_type": "stream",
          "name": "stdout",
          "text": [
            "2025-01-30\n",
            "12:30:45\n"
          ]
        }
      ]
    },
    {
      "cell_type": "markdown",
      "source": [
        "**Formatting Dates and Times**\n",
        "\n",
        "You can format dates and times into strings using the **strftime()** method:\n",
        "\n",
        "**Common format codes:**\n",
        "\n",
        "%Y: Year with century (e.g., 2025)\n",
        "\n",
        "%m: Month as a zero-padded decimal number (e.g., 01)\n",
        "\n",
        "%d: Day of the month as a zero-padded decimal number (e.g., 30)\n",
        "\n",
        "%H: Hour (24-hour clock) as a zero-padded decimal number (e.g., 12)\n",
        "\n",
        "%M: Minute as a zero-padded decimal number (e.g., 45)\n",
        "\n",
        "%S: Second as a zero-padded decimal number (e.g., 59)\n"
      ],
      "metadata": {
        "id": "VCtWWmR0WVmI"
      }
    },
    {
      "cell_type": "code",
      "source": [
        "import datetime\n",
        "now = datetime.datetime.now()\n",
        "formatted_date = now.strftime(\"%Y-%m-%d %H:%M:%S\")\n",
        "print(formatted_date)  # Output: 2025-01-30 12:45:59\n"
      ],
      "metadata": {
        "colab": {
          "base_uri": "https://localhost:8080/"
        },
        "id": "zPAQqtoUW136",
        "outputId": "eee9b51f-0e14-4637-ff5f-04ee5356dbc6"
      },
      "execution_count": null,
      "outputs": [
        {
          "output_type": "stream",
          "name": "stdout",
          "text": [
            "2025-02-02 17:01:28\n"
          ]
        }
      ]
    },
    {
      "cell_type": "markdown",
      "source": [
        "** Working with Timedelta**\n",
        "\n",
        "The timedelta class represents the difference between two dates or times."
      ],
      "metadata": {
        "id": "2gE36WQFXS2o"
      }
    },
    {
      "cell_type": "code",
      "source": [
        "# Create a timedelta object\n",
        "delta = datetime.timedelta(days=5, hours=3)\n",
        "\n",
        "# Get the current date and time\n",
        "now = datetime.datetime.now()\n",
        "\n",
        "# Add the timedelta to the current date\n",
        "new_date = now + delta\n",
        "print(new_date)  # Output: (current date + 5 days and 3 hours)\n"
      ],
      "metadata": {
        "colab": {
          "base_uri": "https://localhost:8080/"
        },
        "id": "_YTdK8ojXbcL",
        "outputId": "2d29c348-c588-4fa0-bd95-63e145adadec"
      },
      "execution_count": null,
      "outputs": [
        {
          "output_type": "stream",
          "name": "stdout",
          "text": [
            "2025-02-07 20:01:28.789001\n"
          ]
        }
      ]
    },
    {
      "cell_type": "markdown",
      "source": [
        "**Calculating Date Difference**\n",
        "\n",
        " To find the difference between two dates:\n",
        "\n"
      ],
      "metadata": {
        "id": "_RovGljqXtwO"
      }
    },
    {
      "cell_type": "code",
      "source": [
        "date1 = datetime.date(2025, 1, 30)\n",
        "date2 = datetime.date(2025, 2, 5)\n",
        "\n",
        "difference = date2 - date1\n",
        "print(difference)  # Output: 6 days, meaning 6 days between the two dates\n"
      ],
      "metadata": {
        "colab": {
          "base_uri": "https://localhost:8080/"
        },
        "id": "FUCYjQGWX0Rd",
        "outputId": "99e39975-d356-4f79-96c8-ec133d4b2824"
      },
      "execution_count": null,
      "outputs": [
        {
          "output_type": "stream",
          "name": "stdout",
          "text": [
            "6 days, 0:00:00\n"
          ]
        }
      ]
    },
    {
      "cell_type": "markdown",
      "source": [
        "**Question:**\n",
        "\n",
        "Write a Python program that calculates a person's age based on their birthdate.\n",
        "\n",
        "\n",
        "The program should ask the user to input their birthdate in the format YYYY-MM-DD.\n",
        "\n",
        "It should then calculate the person's age in years and handle invalid date formats gracefully by displaying an appropriate error message.\n",
        "\n",
        "If the birthdate has not yet occurred this year, adjust the age accordingly."
      ],
      "metadata": {
        "id": "nqndTjEFZ3WV"
      }
    },
    {
      "cell_type": "code",
      "source": [
        "from datetime import datetime\n",
        "\n",
        "# Function to calculate age from birthdate\n",
        "def calculate_age(birthdate):\n",
        "    today = datetime.today()\n",
        "    age = today.year - birthdate.year\n",
        "\n",
        "    # Adjust age if birthday hasn't occurred yet this year\n",
        "    if (today.month, today.day) < (birthdate.month, birthdate.day):\n",
        "        age -= 1\n",
        "\n",
        "    return age\n",
        "\n",
        "# Ask user for their birthday\n",
        "birthdate_str = input(\"Enter your birthdate (YYYY-MM-DD): \")\n",
        "\n",
        "# Convert the input string to a datetime object\n",
        "try:\n",
        "    birthdate = datetime.strptime(birthdate_str, \"%Y-%m-%d\")\n",
        "    # Calculate and print the age\n",
        "    age = calculate_age(birthdate)\n",
        "    print(f\"Your age is: {age} years\")\n",
        "except ValueError:\n",
        "    print(\"Invalid date format. Please use YYYY-MM-DD.\")\n"
      ],
      "metadata": {
        "id": "4vAg86IvZ65F"
      },
      "execution_count": null,
      "outputs": []
    },
    {
      "cell_type": "markdown",
      "source": [
        "# Python Dictionaries\n",
        "\n",
        "Dictionaries are used to store data values in key:value pairs.\n",
        "\n",
        "A dictionary is a collection which is\n",
        "\n",
        "*   ordered\n",
        "*   changeable\n",
        "*   do not allow duplicates.\n",
        "\n",
        "Dictionaries are written with curly brackets, and have keys and values:\n",
        "\n",
        "Example\n",
        "[Note:\n",
        "As of Python version 3.7, dictionaries are ordered. In Python 3.6 and earlier, dictionaries are unordered.]\n",
        "\n",
        "\n",
        "\n",
        "\n",
        "\n"
      ],
      "metadata": {
        "id": "EoOfbioqcCxm"
      }
    },
    {
      "cell_type": "code",
      "source": [
        "thisdict = {\n",
        "  \"brand\": \"Ford\",\n",
        "  \"model\": \"Mustang\",\n",
        "  \"year\": 1964\n",
        "}\n",
        "print(thisdict)\n"
      ],
      "metadata": {
        "id": "chI00jH3cAi3",
        "colab": {
          "base_uri": "https://localhost:8080/"
        },
        "outputId": "2ecbc017-db3f-41e0-a9ff-22e6ca24b508"
      },
      "execution_count": null,
      "outputs": [
        {
          "output_type": "stream",
          "name": "stdout",
          "text": [
            "{'brand': 'Ford', 'model': 'Mustang', 'year': 1964}\n"
          ]
        }
      ]
    },
    {
      "cell_type": "markdown",
      "source": [],
      "metadata": {
        "id": "UM3y5Vk4Iqj6"
      }
    },
    {
      "cell_type": "markdown",
      "source": [
        "**Dictionary Items**\n",
        "\n",
        "Dictionary items are presented in key:value pairs, and can be referred to by using the key name."
      ],
      "metadata": {
        "id": "9pvn5ayQgktK"
      }
    },
    {
      "cell_type": "code",
      "source": [
        "#Print the \"brand\" value of the dictionary:\n",
        "thisdict = {\n",
        "  \"brand\": \"Ford\",\n",
        "  \"model\": \"Mustang\",\n",
        "  \"year\": 1964\n",
        "}\n",
        "print(thisdict[\"year\"])\n",
        "print(thisdict[\"brand\"])\n",
        "print(thisdict[\"model\"])\n"
      ],
      "metadata": {
        "id": "Q1jhVNoEg_C_",
        "colab": {
          "base_uri": "https://localhost:8080/"
        },
        "outputId": "ef71cca9-8004-444b-e84e-f04473e02f97"
      },
      "execution_count": null,
      "outputs": [
        {
          "output_type": "stream",
          "name": "stdout",
          "text": [
            "1964\n",
            "Ford\n",
            "Mustang\n"
          ]
        }
      ]
    },
    {
      "cell_type": "markdown",
      "source": [
        "**Duplicates Not Allowed**\n",
        "\n",
        "Dictionaries cannot have two items with the same key: Duplicate values will overwrite existing values:\n"
      ],
      "metadata": {
        "id": "_vLqC7Nhi4Y5"
      }
    },
    {
      "cell_type": "markdown",
      "source": [],
      "metadata": {
        "id": "GQ1PH6hSjnEp"
      }
    },
    {
      "cell_type": "code",
      "source": [
        "thisdict = {\n",
        "  \"brand\": \"Ford\",\n",
        "  \"model\": \"Mustang\",\n",
        "  \"year\": 1964,\n",
        "  \"year\": 2020\n",
        "}\n",
        "print(thisdict)"
      ],
      "metadata": {
        "id": "fvmfmzoMi_lW",
        "colab": {
          "base_uri": "https://localhost:8080/"
        },
        "outputId": "4435be4b-5554-4590-f93b-24a24936dae1"
      },
      "execution_count": null,
      "outputs": [
        {
          "output_type": "stream",
          "name": "stdout",
          "text": [
            "{'brand': 'Ford', 'model': 'Mustang', 'year': 2020}\n"
          ]
        }
      ]
    },
    {
      "cell_type": "markdown",
      "source": [
        "**dict()Constructor**\n",
        "\n",
        "It is also possible to use the **dict()** constructor to make a dictionary\n"
      ],
      "metadata": {
        "id": "964AGkgkjnJx"
      }
    },
    {
      "cell_type": "code",
      "source": [
        "thisdict = dict(name = \"John\", age = 36, country = \"Norway\")\n",
        "print(thisdict)"
      ],
      "metadata": {
        "id": "p21xD3ymktda",
        "colab": {
          "base_uri": "https://localhost:8080/"
        },
        "outputId": "31d4b239-c0f8-46ff-9b24-81c6dc369c59"
      },
      "execution_count": null,
      "outputs": [
        {
          "output_type": "stream",
          "name": "stdout",
          "text": [
            "{'name': 'John', 'age': 36, 'country': 'Norway'}\n"
          ]
        }
      ]
    },
    {
      "cell_type": "markdown",
      "source": [
        "**Dictionary Length**"
      ],
      "metadata": {
        "id": "C-cnfGZFkSvX"
      }
    },
    {
      "cell_type": "code",
      "source": [
        "thisdict = {\n",
        "  \"brand\": \"Ford\",\n",
        "  \"model\": \"Mustang\",\n",
        "  \"year\": 2020\n",
        "}\n",
        "print(len(thisdict))"
      ],
      "metadata": {
        "id": "UYqyyDpxlGJR",
        "colab": {
          "base_uri": "https://localhost:8080/"
        },
        "outputId": "67da1587-1d5e-46bb-9a50-de06bf1260e1"
      },
      "execution_count": null,
      "outputs": [
        {
          "output_type": "stream",
          "name": "stdout",
          "text": [
            "3\n"
          ]
        }
      ]
    },
    {
      "cell_type": "markdown",
      "source": [
        "**type()**\n",
        "\n",
        "From Python's perspective, dictionaries are defined as objects with the data type 'dict':"
      ],
      "metadata": {
        "id": "IKoyHBankTI9"
      }
    },
    {
      "cell_type": "code",
      "source": [
        "thisdict = {\n",
        "  \"brand\": \"Ford\",\n",
        "  \"model\": \"Mustang\",\n",
        "  \"year\": 2020\n",
        "}\n",
        "print(type(thisdict))\n",
        "print(type(thisdict[\"brand\"]))\n",
        "print(type(thisdict[\"model\"]))\n",
        "print(type(thisdict[\"year\"]))"
      ],
      "metadata": {
        "id": "XzrX9b_gldnB",
        "colab": {
          "base_uri": "https://localhost:8080/"
        },
        "outputId": "011c795d-58d0-4a5b-81c8-6a8fe624ecee"
      },
      "execution_count": null,
      "outputs": [
        {
          "output_type": "stream",
          "name": "stdout",
          "text": [
            "<class 'dict'>\n",
            "<class 'str'>\n",
            "<class 'str'>\n",
            "<class 'int'>\n"
          ]
        }
      ]
    },
    {
      "cell_type": "markdown",
      "source": [
        "**Dictionary Items - Data Types**\n",
        "\n",
        "The values in dictionary items can be of any data type:"
      ],
      "metadata": {
        "id": "h_T5jmmgmHWu"
      }
    },
    {
      "cell_type": "code",
      "source": [
        "#String, int, boolean, and list data types:\n",
        "thisdict = {\n",
        "  \"brand\": \"Ford\",\n",
        "  \"electric\": False,\n",
        "  \"year\": 1964,\n",
        "  \"colors\": [\"red\", \"white\", \"blue\"]\n",
        "}\n",
        "print(type(thisdict[\"colors\"]))"
      ],
      "metadata": {
        "id": "oRjHxXEGmNw7",
        "colab": {
          "base_uri": "https://localhost:8080/"
        },
        "outputId": "bd3dddc7-ce45-4881-9466-456b00d70e86"
      },
      "execution_count": null,
      "outputs": [
        {
          "output_type": "stream",
          "name": "stdout",
          "text": [
            "<class 'list'>\n"
          ]
        }
      ]
    },
    {
      "cell_type": "markdown",
      "source": [
        "**Accessing Items**\n",
        "\n",
        "\n",
        "You can access the items of a dictionary by referring to its  **key name, inside square brackets:**"
      ],
      "metadata": {
        "id": "ArrpVGtmn62x"
      }
    },
    {
      "cell_type": "code",
      "source": [
        "#Get the value of the \"model\" key:\n",
        "\n",
        "thisdict = {\n",
        "  \"brand\": \"Ford\",\n",
        "  \"model\": \"Mustang\",\n",
        "  \"year\": 1964\n",
        "}\n",
        "x = thisdict[\"model\"]\n",
        "print(x)"
      ],
      "metadata": {
        "colab": {
          "base_uri": "https://localhost:8080/"
        },
        "id": "fzQLbiDvoSIC",
        "outputId": "3e201428-6240-46df-eabc-3710ad054f7b"
      },
      "execution_count": null,
      "outputs": [
        {
          "output_type": "stream",
          "name": "stdout",
          "text": [
            "Mustang\n"
          ]
        }
      ]
    },
    {
      "cell_type": "markdown",
      "source": [
        "**Get Keys**"
      ],
      "metadata": {
        "id": "lpjPdYBFp6Up"
      }
    },
    {
      "cell_type": "code",
      "source": [
        "#Get Keys:The keys() method will return a list of all the keys in the dictionary.\n",
        "thisdict = {\n",
        "  \"brand\": \"Ford\",\n",
        "  \"model\": \"Mustang\",\n",
        "  \"year\": 1964\n",
        "}\n",
        "x = thisdict.keys()\n",
        "print(x)"
      ],
      "metadata": {
        "colab": {
          "base_uri": "https://localhost:8080/"
        },
        "id": "vXKL9VerpqVZ",
        "outputId": "a181cde3-9520-4f0f-cc72-ec4d110b8a1f"
      },
      "execution_count": null,
      "outputs": [
        {
          "output_type": "stream",
          "name": "stdout",
          "text": [
            "dict_keys(['brand', 'model', 'year'])\n"
          ]
        }
      ]
    },
    {
      "cell_type": "markdown",
      "source": [
        "**Change Values** or **Replacing Values**\n",
        "\n",
        "You can change the value of a specific item by referring to its key name:"
      ],
      "metadata": {
        "id": "SiNgnP6CqtcX"
      }
    },
    {
      "cell_type": "code",
      "source": [
        "#Change the \"year\" to 2018:\n",
        "\n",
        "thisdict = {\n",
        "  \"brand\": \"Ford\",\n",
        "  \"model\": \"Mustang\",\n",
        "  \"year\": 1964\n",
        "}\n",
        "thisdict[\"year\"] = 2018\n",
        "print(thisdict)"
      ],
      "metadata": {
        "colab": {
          "base_uri": "https://localhost:8080/"
        },
        "id": "8-I2jxpyrAM6",
        "outputId": "cf2376b2-0593-4e32-94f4-f29eb0733a6d"
      },
      "execution_count": null,
      "outputs": [
        {
          "output_type": "stream",
          "name": "stdout",
          "text": [
            "{'brand': 'Ford', 'model': 'Mustang', 'year': 2018}\n"
          ]
        }
      ]
    },
    {
      "cell_type": "code",
      "source": [
        "#Update the \"year\" of the car by using the update() method:\n",
        "\n",
        "thisdict = {\n",
        "  \"brand\": \"Ford\",\n",
        "  \"model\": \"Mustang\",\n",
        "  \"year\": 1964\n",
        "}\n",
        "thisdict.update({\"year\": 2020})\n",
        "print(thisdict)"
      ],
      "metadata": {
        "colab": {
          "base_uri": "https://localhost:8080/"
        },
        "id": "0nNtIaPzrvDm",
        "outputId": "676aa8e4-1cc7-47d6-c555-527b2574897d"
      },
      "execution_count": null,
      "outputs": [
        {
          "output_type": "stream",
          "name": "stdout",
          "text": [
            "{'brand': 'Ford', 'model': 'Mustang', 'year': 2020}\n"
          ]
        }
      ]
    },
    {
      "cell_type": "markdown",
      "source": [
        "**Adding Items**\n",
        "\n",
        "Adding an item to the dictionary is done by using a new index key and assigning a value to it:"
      ],
      "metadata": {
        "id": "7rdAcvv0sCMr"
      }
    },
    {
      "cell_type": "code",
      "source": [
        "thisdict = {\n",
        "  \"brand\": \"Ford\",\n",
        "  \"model\": \"Mustang\",\n",
        "  \"year\": 1964\n",
        "}\n",
        "thisdict[\"color\"] = \"red\"            #add\n",
        "thisdict.update({\"cost\": \"10000$\"})  #update\n",
        "print(thisdict)"
      ],
      "metadata": {
        "colab": {
          "base_uri": "https://localhost:8080/"
        },
        "id": "iEsi13hAsJW3",
        "outputId": "97d38166-26a0-459a-a092-f9d5eb7c40a5"
      },
      "execution_count": null,
      "outputs": [
        {
          "output_type": "stream",
          "name": "stdout",
          "text": [
            "{'brand': 'Ford', 'model': 'Mustang', 'year': 1964, 'color': 'red', 'cost': '10000$'}\n"
          ]
        }
      ]
    },
    {
      "cell_type": "markdown",
      "source": [
        "**Removing Items**\n",
        "\n",
        "There are several methods to remove items from a dictionary:"
      ],
      "metadata": {
        "id": "wWXn017etGj3"
      }
    },
    {
      "cell_type": "code",
      "source": [
        "#The pop() method removes the item with the specified key name:\n",
        "\n",
        "thisdict = {\n",
        "  \"brand\": \"Ford\",\n",
        "  \"model\": \"Mustang\",\n",
        "  \"year\": 1964\n",
        "}\n",
        "thisdict.pop(\"model\")\n",
        "print(thisdict)"
      ],
      "metadata": {
        "colab": {
          "base_uri": "https://localhost:8080/"
        },
        "id": "GZUp8NTFtQaN",
        "outputId": "a977ba0d-ad49-49bc-cce4-316705d4b342"
      },
      "execution_count": null,
      "outputs": [
        {
          "output_type": "stream",
          "name": "stdout",
          "text": [
            "{'brand': 'Ford', 'year': 1964}\n"
          ]
        }
      ]
    },
    {
      "cell_type": "code",
      "source": [
        "#The popitem() method removes the last inserted item (in versions before 3.7, a random item is removed instead):\n",
        "\n",
        "thisdict = {\n",
        "  \"brand\": \"Ford\",\n",
        "  \"model\": \"Mustang\",\n",
        "  \"year\": 1964\n",
        "}\n",
        "thisdict.popitem()\n",
        "print(thisdict)"
      ],
      "metadata": {
        "colab": {
          "base_uri": "https://localhost:8080/"
        },
        "id": "h8tW_1vgtglN",
        "outputId": "e2641280-a130-4cec-c883-872645820356"
      },
      "execution_count": null,
      "outputs": [
        {
          "output_type": "stream",
          "name": "stdout",
          "text": [
            "{'brand': 'Ford', 'model': 'Mustang'}\n"
          ]
        }
      ]
    },
    {
      "cell_type": "code",
      "source": [
        "#The del keyword removes the item with the specified key name:\n",
        "\n",
        "thisdict = {\n",
        "  \"brand\": \"Ford\",\n",
        "  \"model\": \"Mustang\",\n",
        "  \"year\": 1964\n",
        "}\n",
        "del thisdict[\"model\"]\n",
        "print(thisdict)"
      ],
      "metadata": {
        "colab": {
          "base_uri": "https://localhost:8080/"
        },
        "id": "yqylaq1Atz7X",
        "outputId": "67274504-e796-46ca-b735-25593add0c34"
      },
      "execution_count": null,
      "outputs": [
        {
          "output_type": "stream",
          "name": "stdout",
          "text": [
            "{'brand': 'Ford', 'year': 1964}\n"
          ]
        }
      ]
    },
    {
      "cell_type": "code",
      "source": [
        "#The clear() method empties the dictionary:\n",
        "\n",
        "thisdict = {\n",
        "  \"brand\": \"Ford\",\n",
        "  \"model\": \"Mustang\",\n",
        "  \"year\": 1964\n",
        "}\n",
        "thisdict.clear()\n",
        "print(thisdict)"
      ],
      "metadata": {
        "id": "VolGT8YxuEWr",
        "outputId": "33abc19a-be62-402c-f2cb-1c386a39c53f",
        "colab": {
          "base_uri": "https://localhost:8080/"
        }
      },
      "execution_count": null,
      "outputs": [
        {
          "output_type": "stream",
          "name": "stdout",
          "text": [
            "{}\n"
          ]
        }
      ]
    },
    {
      "cell_type": "code",
      "source": [],
      "metadata": {
        "id": "Vgz5yphXC-nQ"
      },
      "execution_count": null,
      "outputs": []
    },
    {
      "cell_type": "markdown",
      "source": [
        "# **Traversing a Dictionary**\n",
        "\n",
        "You can loop through a dictionary using a for loop.\n",
        "\n",
        "Iterating through keys:"
      ],
      "metadata": {
        "id": "599ujFfSItsb"
      }
    },
    {
      "cell_type": "code",
      "source": [
        "#Iterating through keys:\n",
        "student = {\n",
        "    \"name\": \"Arun\",\n",
        "    \"age\": 20,\n",
        "    \"course\": \"Computer Science\"\n",
        "}\n",
        "\n",
        "print(\"Traversing Keys:\")\n",
        "for key in student:\n",
        "    print(key)"
      ],
      "metadata": {
        "id": "hYwn-rhnI3aM",
        "colab": {
          "base_uri": "https://localhost:8080/"
        },
        "outputId": "64821434-8633-4b30-aa72-a185ac3292d8"
      },
      "execution_count": null,
      "outputs": [
        {
          "output_type": "stream",
          "name": "stdout",
          "text": [
            "Traversing Keys:\n",
            "name\n",
            "age\n",
            "course\n"
          ]
        }
      ]
    },
    {
      "cell_type": "markdown",
      "source": [
        "**Iterating Over Values**\n",
        "\n",
        "You can use .values() to access only the values."
      ],
      "metadata": {
        "id": "q0_L1fMZMbLg"
      }
    },
    {
      "cell_type": "code",
      "source": [
        "#Iterating Over Values\n",
        "student = {\n",
        "    \"name\": \"Arun\",\n",
        "    \"age\": 20,\n",
        "    \"course\": \"Computer Science\"\n",
        "}\n",
        "\n",
        "print(\"Traversing Values:\")\n",
        "for value in student.values():\n",
        "    print(value)\n"
      ],
      "metadata": {
        "colab": {
          "base_uri": "https://localhost:8080/"
        },
        "id": "aJzq0HDEMmND",
        "outputId": "a2e1e1ce-bd01-42b4-c5b2-99bb87dd5bd7"
      },
      "execution_count": null,
      "outputs": [
        {
          "output_type": "stream",
          "name": "stdout",
          "text": [
            "Traversing Values:\n",
            "Arun\n",
            "20\n",
            "Computer Science\n"
          ]
        }
      ]
    },
    {
      "cell_type": "markdown",
      "source": [
        "**Iterating Over Key-Value Pairs**\n",
        "\n",
        "\n",
        "Using .items(), you can access both keys and values."
      ],
      "metadata": {
        "id": "2dG9s7-TM7Tv"
      }
    },
    {
      "cell_type": "code",
      "source": [
        "#Iterating Over Values\n",
        "student = {\n",
        "    \"name\": \"Arun\",\n",
        "    \"age\": 20,\n",
        "    \"course\": \"Computer Science\"\n",
        "}\n",
        "print(\"Traversing Key-Value Pairs:\")\n",
        "for key, value in student.items():\n",
        "    print(f\"{key}: {value}\")"
      ],
      "metadata": {
        "colab": {
          "base_uri": "https://localhost:8080/"
        },
        "id": "_n3J0nJmNCC5",
        "outputId": "3467469f-ea26-4d64-d4bb-09184517d55d"
      },
      "execution_count": null,
      "outputs": [
        {
          "output_type": "stream",
          "name": "stdout",
          "text": [
            "Traversing Key-Value Pairs:\n",
            "name: Arun\n",
            "age: 20\n",
            "course: Computer Science\n"
          ]
        }
      ]
    },
    {
      "cell_type": "markdown",
      "source": [
        "**Using enumerate() for Indexed Traversal**\n",
        "\n",
        "If you need an index while iterating, use **enumerate().**"
      ],
      "metadata": {
        "id": "uipD-X82NUuy"
      }
    },
    {
      "cell_type": "code",
      "source": [
        "#enumerate() for Indexed Traversal\n",
        "student = {\n",
        "    \"name\": \"Arun\",\n",
        "    \"age\": 20,\n",
        "    \"course\": \"Computer Science\"\n",
        "}\n",
        "\n",
        "print(\"Indexed Traversal:\")\n",
        "for index, (key, value) in enumerate(student.items()):\n",
        "    print(f\"{index}. {key}: {value}\")\n"
      ],
      "metadata": {
        "colab": {
          "base_uri": "https://localhost:8080/"
        },
        "id": "kNxC73xANd7O",
        "outputId": "46fc6368-9962-4e19-c97e-ec7dd7b32c34"
      },
      "execution_count": null,
      "outputs": [
        {
          "output_type": "stream",
          "name": "stdout",
          "text": [
            "Indexed Traversal:\n",
            "0. name: Arun\n",
            "1. age: 20\n",
            "2. course: Computer Science\n"
          ]
        }
      ]
    },
    {
      "cell_type": "markdown",
      "source": [
        "***Reverse Lookup***\n",
        "\n",
        "Given a dictionary **d** and a key **k**, it is easy to find the corresponding value **v = d[k]**. This operation is called a **lookup.**\n",
        "\n",
        "But what if you have **v** and you want to find **k**?\n",
        "\n",
        "You have two problems:\n",
        "\n",
        "1. First, there might be more than one key that maps to the value v. Depending on the application, you might be able to pick one, or you might have to make a list that contains all of them.\n",
        "\n",
        "2. Second, there is no simple syntax to do a reverse lookup; you have to search."
      ],
      "metadata": {
        "id": "B2RMyoK1N7i6"
      }
    },
    {
      "cell_type": "markdown",
      "source": [
        "The reverse_lookup function:\n",
        "\n",
        "Searches for all keys in name_dictionary that map to name_value and returns them as a list.\n",
        "\n",
        "If no match is found, it returns an empty list"
      ],
      "metadata": {
        "id": "1Ln0TcX_vk3G"
      }
    },
    {
      "cell_type": "code",
      "source": [
        "# Reverse Lookup (to find the key for a value)\n",
        "\n",
        "def reverse_lookup(name_dictionary, name_value): # dictionary and value for the key\n",
        "    keys = []  # Initialize an empty list to store keys\n",
        "    for k in name_dictionary:\n",
        "        if name_dictionary[k] == name_value:\n",
        "            keys.append(k)  # Append the key to the list if the value matches\n",
        "    return keys  # Return the list of keys\n",
        "\n",
        "name_dictionary = {'Alice': 90, 'Bob': 85, 'Charlie': 90, 'David': 80}\n",
        "print(reverse_lookup(name_dictionary, 90))  # Output: ['Alice', 'Charlie']\n",
        "print(reverse_lookup(name_dictionary, 100))  # Output: []"
      ],
      "metadata": {
        "colab": {
          "base_uri": "https://localhost:8080/"
        },
        "id": "h8jylCETiTLv",
        "outputId": "8c530646-edde-495a-d46f-0226f29ddb4c"
      },
      "execution_count": null,
      "outputs": [
        {
          "output_type": "stream",
          "name": "stdout",
          "text": [
            "['Alice', 'Charlie']\n",
            "[]\n"
          ]
        }
      ]
    }
  ]
}